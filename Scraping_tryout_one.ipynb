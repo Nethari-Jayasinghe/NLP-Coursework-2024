{
  "nbformat": 4,
  "nbformat_minor": 0,
  "metadata": {
    "colab": {
      "provenance": []
    },
    "kernelspec": {
      "name": "python3",
      "display_name": "Python 3"
    },
    "language_info": {
      "name": "python"
    }
  },
  "cells": [
    {
      "cell_type": "code",
      "execution_count": 1,
      "metadata": {
        "colab": {
          "base_uri": "https://localhost:8080/"
        },
        "id": "O4tqWkledmKn",
        "outputId": "c1a2ab4b-953f-4919-c059-ddacd71cb5dc"
      },
      "outputs": [
        {
          "output_type": "stream",
          "name": "stdout",
          "text": [
            "Collecting apify-client\n",
            "  Downloading apify_client-1.8.1-py3-none-any.whl.metadata (4.3 kB)\n",
            "Collecting apify-shared>=1.1.2 (from apify-client)\n",
            "  Downloading apify_shared-1.1.2-py3-none-any.whl.metadata (2.5 kB)\n",
            "Requirement already satisfied: httpx>=0.25.0 in /usr/local/lib/python3.10/dist-packages (from apify-client) (0.27.2)\n",
            "Requirement already satisfied: more_itertools>=10.0.0 in /usr/local/lib/python3.10/dist-packages (from apify-client) (10.5.0)\n",
            "Requirement already satisfied: anyio in /usr/local/lib/python3.10/dist-packages (from httpx>=0.25.0->apify-client) (3.7.1)\n",
            "Requirement already satisfied: certifi in /usr/local/lib/python3.10/dist-packages (from httpx>=0.25.0->apify-client) (2024.8.30)\n",
            "Requirement already satisfied: httpcore==1.* in /usr/local/lib/python3.10/dist-packages (from httpx>=0.25.0->apify-client) (1.0.6)\n",
            "Requirement already satisfied: idna in /usr/local/lib/python3.10/dist-packages (from httpx>=0.25.0->apify-client) (3.10)\n",
            "Requirement already satisfied: sniffio in /usr/local/lib/python3.10/dist-packages (from httpx>=0.25.0->apify-client) (1.3.1)\n",
            "Requirement already satisfied: h11<0.15,>=0.13 in /usr/local/lib/python3.10/dist-packages (from httpcore==1.*->httpx>=0.25.0->apify-client) (0.14.0)\n",
            "Requirement already satisfied: exceptiongroup in /usr/local/lib/python3.10/dist-packages (from anyio->httpx>=0.25.0->apify-client) (1.2.2)\n",
            "Downloading apify_client-1.8.1-py3-none-any.whl (73 kB)\n",
            "\u001b[2K   \u001b[90m━━━━━━━━━━━━━━━━━━━━━━━━━━━━━━━━━━━━━━━━\u001b[0m \u001b[32m73.5/73.5 kB\u001b[0m \u001b[31m1.6 MB/s\u001b[0m eta \u001b[36m0:00:00\u001b[0m\n",
            "\u001b[?25hDownloading apify_shared-1.1.2-py3-none-any.whl (12 kB)\n",
            "Installing collected packages: apify-shared, apify-client\n",
            "Successfully installed apify-client-1.8.1 apify-shared-1.1.2\n"
          ]
        }
      ],
      "source": [
        "!pip install apify-client"
      ]
    },
    {
      "cell_type": "code",
      "source": [
        "import csv\n",
        "from apify_client import ApifyClient\n",
        "from datetime import datetime"
      ],
      "metadata": {
        "id": "3aiHghzDdpPo"
      },
      "execution_count": 2,
      "outputs": []
    },
    {
      "cell_type": "code",
      "source": [
        "# Initialize the ApifyClient with your Apify API token\n",
        "client = ApifyClient(\"apify_api_ahFfQ3XdhejhYby4v7AbYNLvzc6IdC3d8AL3\")"
      ],
      "metadata": {
        "id": "yeu6yo74drki"
      },
      "execution_count": null,
      "outputs": []
    },
    {
      "cell_type": "code",
      "source": [
        "# List of TripAdvisor URLs for 100 Sri Lankan hotels\n",
        "hotel_urls = [\n",
        "    \"https://www.tripadvisor.com/Hotel_Review-g297896-d14033359-Reviews-Le_Grand_Galle-Galle_Galle_District_Southern_Province.html\",\n",
        "    \"https://www.tripadvisor.com/Hotel_Review-g293962-d14106301-Reviews-Marino_Beach_Colombo-Colombo_Western_Province.html\"\n",
        "    # Add up to 100 URLs for each hotel here\n",
        "]"
      ],
      "metadata": {
        "id": "z8_ifUqxduzU"
      },
      "execution_count": null,
      "outputs": []
    },
    {
      "cell_type": "code",
      "source": [
        "# Prepare to collect all reviews in a list\n",
        "all_reviews = []\n",
        "target_review_count = 1000"
      ],
      "metadata": {
        "id": "UzMBSFY0d0Bg"
      },
      "execution_count": null,
      "outputs": []
    },
    {
      "cell_type": "code",
      "source": [
        "#Define the date range\n",
        "start_date = datetime(2024, 1, 1)\n",
        "end_date = datetime(2024, 11, 2)"
      ],
      "metadata": {
        "id": "lqjhZJ_Udz-H"
      },
      "execution_count": null,
      "outputs": []
    },
    {
      "cell_type": "code",
      "source": [
        "for url in hotel_urls:\n",
        "    # Prepare input for each hotel with English-only reviews\n",
        "    run_input = {\n",
        "        \"startUrls\": [{\"url\": url}],\n",
        "        \"maxItemsPerQuery\": 50,  # Adjust if you need more reviews per query\n",
        "        \"reviewRatings\": [\"ALL_REVIEW_RATINGS\"],\n",
        "        \"reviewsLanguages\": [\"en\"],  # Only fetch English reviews\n",
        "    }\n",
        "\n",
        "    # Run the Actor and wait for it to finish\n",
        "    run = client.actor(\"maxcopell/tripadvisor-reviews\").call(run_input=run_input)\n",
        "\n",
        "    # Fetch reviews from the dataset\n",
        "    for item in client.dataset(run[\"defaultDatasetId\"]).iterate_items():\n",
        "        # Parse the review date\n",
        "        review_date = datetime.strptime(item[\"publishedDate\"], \"%Y-%m-%d\")\n",
        "\n",
        "        # Filter reviews by date range\n",
        "        if start_date <= review_date <= end_date:\n",
        "            all_reviews.append(item)\n",
        "\n",
        "        # Stop if we've reached the target review count\n",
        "        if len(all_reviews) >= target_review_count:\n",
        "            break\n",
        "\n",
        "    # Check if we've collected enough reviews\n",
        "    if len(all_reviews) >= target_review_count:\n",
        "        break\n"
      ],
      "metadata": {
        "id": "jOYz-5Aydz6v"
      },
      "execution_count": null,
      "outputs": []
    },
    {
      "cell_type": "code",
      "source": [
        "# Define the CSV file path and field names\n",
        "csv_file_path = \"sri_lankan_hotel_reviews.csv\"\n",
        "fieldnames = [\"reviewId\", \"userName\", \"publishedDate\", \"rating\", \"reviewText\"]"
      ],
      "metadata": {
        "id": "6Mifco_DdzsX"
      },
      "execution_count": null,
      "outputs": []
    },
    {
      "cell_type": "code",
      "source": [
        "# Write the filtered reviews to the CSV file\n",
        "with open(csv_file_path, mode=\"w\", newline=\"\", encoding=\"utf-8\") as csv_file:\n",
        "    writer = csv.DictWriter(csv_file, fieldnames=fieldnames)\n",
        "    writer.writeheader()  # Write header\n",
        "\n",
        "    for review in all_reviews:\n",
        "        # Extract only available fields to avoid missing data issues\n",
        "        writer.writerow({\n",
        "            \"reviewId\": review.get(\"reviewId\", \"\"),\n",
        "            \"userName\": review.get(\"userName\", \"\"),\n",
        "            \"publishedDate\": review.get(\"publishedDate\", \"\"),\n",
        "            \"rating\": review.get(\"rating\", \"\"),\n",
        "            \"reviewText\": review.get(\"reviewText\", \"\"),\n",
        "        })\n",
        "\n",
        "print(f\"Collected {len(all_reviews)} English reviews in the specified date range.\")\n",
        "print(f\"Data saved to {csv_file_path}\")"
      ],
      "metadata": {
        "id": "V4tI2bIDdzeA"
      },
      "execution_count": null,
      "outputs": []
    }
  ]
}