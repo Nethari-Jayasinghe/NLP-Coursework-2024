{
  "nbformat": 4,
  "nbformat_minor": 0,
  "metadata": {
    "colab": {
      "provenance": []
    },
    "kernelspec": {
      "name": "python3",
      "display_name": "Python 3"
    },
    "language_info": {
      "name": "python"
    }
  },
  "cells": [
    {
      "cell_type": "code",
      "execution_count": null,
      "metadata": {
        "colab": {
          "base_uri": "https://localhost:8080/"
        },
        "id": "CcH9pLUfb5sK",
        "outputId": "80637048-4ec6-4ca4-b653-df7e225c1498"
      },
      "outputs": [
        {
          "output_type": "stream",
          "name": "stdout",
          "text": [
            "Mounted at /content/drive\n"
          ]
        }
      ],
      "source": [
        "from google.colab import drive\n",
        "drive.mount('/content/drive')"
      ]
    },
    {
      "cell_type": "code",
      "source": [
        "import pandas as pd\n",
        "import os"
      ],
      "metadata": {
        "id": "fHcFt3QHcBoK"
      },
      "execution_count": null,
      "outputs": []
    },
    {
      "cell_type": "code",
      "source": [
        "# Specify the folder path\n",
        "folder_path = '/content/drive/MyDrive/NLP_modifiedData/NLP_Datasets'"
      ],
      "metadata": {
        "id": "AYEKcyGycBkr"
      },
      "execution_count": null,
      "outputs": []
    },
    {
      "cell_type": "code",
      "source": [
        "# Get a list of all CSV files in the folder\n",
        "csv_files = [f for f in os.listdir(folder_path) if f.endswith('.csv')]\n",
        "\n",
        "# Initialize an empty list to store DataFrames\n",
        "dataframes = []\n",
        "\n",
        "# Loop over each file and read it into a DataFrame, then append to the list\n",
        "for file in csv_files:\n",
        "    file_path = os.path.join(folder_path, file)\n",
        "    df = pd.read_csv(file_path)\n",
        "    dataframes.append(df)"
      ],
      "metadata": {
        "id": "COwKJ3KBcBf6"
      },
      "execution_count": null,
      "outputs": []
    },
    {
      "cell_type": "code",
      "source": [
        "print(f\"Number of DataFrames loaded: {len(dataframes)}\")"
      ],
      "metadata": {
        "colab": {
          "base_uri": "https://localhost:8080/"
        },
        "id": "vZYQ_YhLcBdQ",
        "outputId": "f542d673-bdf8-4fb4-ef44-1fa7a4a747ac"
      },
      "execution_count": null,
      "outputs": [
        {
          "output_type": "stream",
          "name": "stdout",
          "text": [
            "Number of DataFrames loaded: 19\n"
          ]
        }
      ]
    },
    {
      "cell_type": "code",
      "source": [
        "for i, df in enumerate(dataframes, 1):\n",
        "    print(f\"DataFrame {i}: {df.shape[0]} rows, {df.shape[1]} columns\")"
      ],
      "metadata": {
        "colab": {
          "base_uri": "https://localhost:8080/"
        },
        "id": "nHbw0f7lcBag",
        "outputId": "9ca16412-41ba-4590-fe9e-3143fafeeb99"
      },
      "execution_count": null,
      "outputs": [
        {
          "output_type": "stream",
          "name": "stdout",
          "text": [
            "DataFrame 1: 398 rows, 18 columns\n",
            "DataFrame 2: 193 rows, 18 columns\n",
            "DataFrame 3: 223 rows, 18 columns\n",
            "DataFrame 4: 239 rows, 18 columns\n",
            "DataFrame 5: 791 rows, 18 columns\n",
            "DataFrame 6: 198 rows, 18 columns\n",
            "DataFrame 7: 690 rows, 18 columns\n",
            "DataFrame 8: 609 rows, 18 columns\n",
            "DataFrame 9: 344 rows, 18 columns\n",
            "DataFrame 10: 47 rows, 18 columns\n",
            "DataFrame 11: 274 rows, 18 columns\n",
            "DataFrame 12: 314 rows, 18 columns\n",
            "DataFrame 13: 46 rows, 18 columns\n",
            "DataFrame 14: 564 rows, 18 columns\n",
            "DataFrame 15: 479 rows, 18 columns\n",
            "DataFrame 16: 292 rows, 18 columns\n",
            "DataFrame 17: 344 rows, 18 columns\n",
            "DataFrame 18: 179 rows, 18 columns\n",
            "DataFrame 19: 154 rows, 18 columns\n"
          ]
        }
      ]
    },
    {
      "cell_type": "code",
      "source": [
        "# Concatenate all DataFrames\n",
        "main_df = pd.concat(dataframes, ignore_index=True)"
      ],
      "metadata": {
        "id": "m9AOsK5NcBX4"
      },
      "execution_count": null,
      "outputs": []
    },
    {
      "cell_type": "code",
      "source": [
        "main_df.shape"
      ],
      "metadata": {
        "colab": {
          "base_uri": "https://localhost:8080/"
        },
        "id": "55BsOYd6cBVX",
        "outputId": "a233902a-3a3b-4081-f97a-722484a63137"
      },
      "execution_count": null,
      "outputs": [
        {
          "output_type": "execute_result",
          "data": {
            "text/plain": [
              "(6378, 18)"
            ]
          },
          "metadata": {},
          "execution_count": 8
        }
      ]
    },
    {
      "cell_type": "code",
      "source": [
        "main_df.head()"
      ],
      "metadata": {
        "colab": {
          "base_uri": "https://localhost:8080/",
          "height": 660
        },
        "id": "fV9jz51DcBSp",
        "outputId": "40ae42c9-2702-4950-821f-053140e8327b"
      },
      "execution_count": null,
      "outputs": [
        {
          "output_type": "execute_result",
          "data": {
            "text/plain": [
              "   helpfulVotes         id lang  locationId  \\\n",
              "0             0  976855792   en      447407   \n",
              "1             0  976848001   en      447407   \n",
              "2             0  976658737   en      447407   \n",
              "3             0  976658654   en      447407   \n",
              "4             0  974741618   en      447407   \n",
              "\n",
              "                                       ownerResponse  \\\n",
              "0                                                NaN   \n",
              "1  {'id': '978350655', 'text': \"Dear Natashaw,\\n\\...   \n",
              "2  {'id': '978350091', 'text': 'Dear Jeewa Godage...   \n",
              "3  {'id': '978349493', 'text': \"Dear Guest.\\n\\nWa...   \n",
              "4  {'id': '974892951', 'text': \"Dear Guest,\\n\\nWa...   \n",
              "\n",
              "                                              photos  \\\n",
              "0                                                 []   \n",
              "1                                                 []   \n",
              "2  [{'id': '770115169', 'image': 'https://media-c...   \n",
              "3  [{'id': '770115172', 'image': 'https://media-c...   \n",
              "4                                                 []   \n",
              "\n",
              "                                           placeInfo publishedDate  \\\n",
              "0  {'id': '447407', 'name': 'Sigiriya Village Hot...    2024-10-27   \n",
              "1  {'id': '447407', 'name': 'Sigiriya Village Hot...    2024-10-27   \n",
              "2  {'id': '447407', 'name': 'Sigiriya Village Hot...    2024-10-25   \n",
              "3  {'id': '447407', 'name': 'Sigiriya Village Hot...    2024-10-25   \n",
              "4  {'id': '447407', 'name': 'Sigiriya Village Hot...    2024-10-20   \n",
              "\n",
              "  publishedPlatform  rating roomTip subratings  \\\n",
              "0            MOBILE       5     NaN         []   \n",
              "1             OTHER       5     NaN         []   \n",
              "2             OTHER       5     NaN         []   \n",
              "3            MOBILE       4     NaN         []   \n",
              "4             OTHER       5     NaN         []   \n",
              "\n",
              "                                                text  \\\n",
              "0  We have been fortunate to meet the  head chef ...   \n",
              "1  Myself and my family had a great time at Sigir...   \n",
              "2  We had a really nice one night in sigiriya vil...   \n",
              "3  The rooms in this hotel are huge ,very comfy a...   \n",
              "4  Everything was beatiful,  the hotel was amazin...   \n",
              "\n",
              "                                               title travelDate tripType  \\\n",
              "0        Excellent chef and service. Very attentive.    2024-10   FAMILY   \n",
              "1                         Great hotel and restaurant    2024-10   FAMILY   \n",
              "2  Had a fantastic weekend in the sigiriya villag...    2024-10  FRIENDS   \n",
              "3                                     Lots going on     2024-10  COUPLES   \n",
              "4                                         Good hotel    2024-10  COUPLES   \n",
              "\n",
              "                                                 url  \\\n",
              "0  https://www.tripadvisor.com/ShowUserReviews-g3...   \n",
              "1  https://www.tripadvisor.com/ShowUserReviews-g3...   \n",
              "2  https://www.tripadvisor.com/ShowUserReviews-g3...   \n",
              "3  https://www.tripadvisor.com/ShowUserReviews-g3...   \n",
              "4  https://www.tripadvisor.com/ShowUserReviews-g3...   \n",
              "\n",
              "                                                user  \n",
              "0  {'userId': '22C31251ACF7FD45781977BF2FD9F49E',...  \n",
              "1  {'userId': '500C57E358033358E19AB89A0A4ECD19',...  \n",
              "2  {'userId': '64AB7003B6A561B6DB860C9C9FF9BC29',...  \n",
              "3  {'userId': '23DF5EF1C6CB1BD10247293D0A824BD2',...  \n",
              "4  {'userId': '4E94A6397EE2636375FFBD6A6158AA01',...  "
            ],
            "text/html": [
              "\n",
              "  <div id=\"df-9d901b86-b30f-450d-8be2-c50d1351faf9\" class=\"colab-df-container\">\n",
              "    <div>\n",
              "<style scoped>\n",
              "    .dataframe tbody tr th:only-of-type {\n",
              "        vertical-align: middle;\n",
              "    }\n",
              "\n",
              "    .dataframe tbody tr th {\n",
              "        vertical-align: top;\n",
              "    }\n",
              "\n",
              "    .dataframe thead th {\n",
              "        text-align: right;\n",
              "    }\n",
              "</style>\n",
              "<table border=\"1\" class=\"dataframe\">\n",
              "  <thead>\n",
              "    <tr style=\"text-align: right;\">\n",
              "      <th></th>\n",
              "      <th>helpfulVotes</th>\n",
              "      <th>id</th>\n",
              "      <th>lang</th>\n",
              "      <th>locationId</th>\n",
              "      <th>ownerResponse</th>\n",
              "      <th>photos</th>\n",
              "      <th>placeInfo</th>\n",
              "      <th>publishedDate</th>\n",
              "      <th>publishedPlatform</th>\n",
              "      <th>rating</th>\n",
              "      <th>roomTip</th>\n",
              "      <th>subratings</th>\n",
              "      <th>text</th>\n",
              "      <th>title</th>\n",
              "      <th>travelDate</th>\n",
              "      <th>tripType</th>\n",
              "      <th>url</th>\n",
              "      <th>user</th>\n",
              "    </tr>\n",
              "  </thead>\n",
              "  <tbody>\n",
              "    <tr>\n",
              "      <th>0</th>\n",
              "      <td>0</td>\n",
              "      <td>976855792</td>\n",
              "      <td>en</td>\n",
              "      <td>447407</td>\n",
              "      <td>NaN</td>\n",
              "      <td>[]</td>\n",
              "      <td>{'id': '447407', 'name': 'Sigiriya Village Hot...</td>\n",
              "      <td>2024-10-27</td>\n",
              "      <td>MOBILE</td>\n",
              "      <td>5</td>\n",
              "      <td>NaN</td>\n",
              "      <td>[]</td>\n",
              "      <td>We have been fortunate to meet the  head chef ...</td>\n",
              "      <td>Excellent chef and service. Very attentive.</td>\n",
              "      <td>2024-10</td>\n",
              "      <td>FAMILY</td>\n",
              "      <td>https://www.tripadvisor.com/ShowUserReviews-g3...</td>\n",
              "      <td>{'userId': '22C31251ACF7FD45781977BF2FD9F49E',...</td>\n",
              "    </tr>\n",
              "    <tr>\n",
              "      <th>1</th>\n",
              "      <td>0</td>\n",
              "      <td>976848001</td>\n",
              "      <td>en</td>\n",
              "      <td>447407</td>\n",
              "      <td>{'id': '978350655', 'text': \"Dear Natashaw,\\n\\...</td>\n",
              "      <td>[]</td>\n",
              "      <td>{'id': '447407', 'name': 'Sigiriya Village Hot...</td>\n",
              "      <td>2024-10-27</td>\n",
              "      <td>OTHER</td>\n",
              "      <td>5</td>\n",
              "      <td>NaN</td>\n",
              "      <td>[]</td>\n",
              "      <td>Myself and my family had a great time at Sigir...</td>\n",
              "      <td>Great hotel and restaurant</td>\n",
              "      <td>2024-10</td>\n",
              "      <td>FAMILY</td>\n",
              "      <td>https://www.tripadvisor.com/ShowUserReviews-g3...</td>\n",
              "      <td>{'userId': '500C57E358033358E19AB89A0A4ECD19',...</td>\n",
              "    </tr>\n",
              "    <tr>\n",
              "      <th>2</th>\n",
              "      <td>0</td>\n",
              "      <td>976658737</td>\n",
              "      <td>en</td>\n",
              "      <td>447407</td>\n",
              "      <td>{'id': '978350091', 'text': 'Dear Jeewa Godage...</td>\n",
              "      <td>[{'id': '770115169', 'image': 'https://media-c...</td>\n",
              "      <td>{'id': '447407', 'name': 'Sigiriya Village Hot...</td>\n",
              "      <td>2024-10-25</td>\n",
              "      <td>OTHER</td>\n",
              "      <td>5</td>\n",
              "      <td>NaN</td>\n",
              "      <td>[]</td>\n",
              "      <td>We had a really nice one night in sigiriya vil...</td>\n",
              "      <td>Had a fantastic weekend in the sigiriya villag...</td>\n",
              "      <td>2024-10</td>\n",
              "      <td>FRIENDS</td>\n",
              "      <td>https://www.tripadvisor.com/ShowUserReviews-g3...</td>\n",
              "      <td>{'userId': '64AB7003B6A561B6DB860C9C9FF9BC29',...</td>\n",
              "    </tr>\n",
              "    <tr>\n",
              "      <th>3</th>\n",
              "      <td>0</td>\n",
              "      <td>976658654</td>\n",
              "      <td>en</td>\n",
              "      <td>447407</td>\n",
              "      <td>{'id': '978349493', 'text': \"Dear Guest.\\n\\nWa...</td>\n",
              "      <td>[{'id': '770115172', 'image': 'https://media-c...</td>\n",
              "      <td>{'id': '447407', 'name': 'Sigiriya Village Hot...</td>\n",
              "      <td>2024-10-25</td>\n",
              "      <td>MOBILE</td>\n",
              "      <td>4</td>\n",
              "      <td>NaN</td>\n",
              "      <td>[]</td>\n",
              "      <td>The rooms in this hotel are huge ,very comfy a...</td>\n",
              "      <td>Lots going on</td>\n",
              "      <td>2024-10</td>\n",
              "      <td>COUPLES</td>\n",
              "      <td>https://www.tripadvisor.com/ShowUserReviews-g3...</td>\n",
              "      <td>{'userId': '23DF5EF1C6CB1BD10247293D0A824BD2',...</td>\n",
              "    </tr>\n",
              "    <tr>\n",
              "      <th>4</th>\n",
              "      <td>0</td>\n",
              "      <td>974741618</td>\n",
              "      <td>en</td>\n",
              "      <td>447407</td>\n",
              "      <td>{'id': '974892951', 'text': \"Dear Guest,\\n\\nWa...</td>\n",
              "      <td>[]</td>\n",
              "      <td>{'id': '447407', 'name': 'Sigiriya Village Hot...</td>\n",
              "      <td>2024-10-20</td>\n",
              "      <td>OTHER</td>\n",
              "      <td>5</td>\n",
              "      <td>NaN</td>\n",
              "      <td>[]</td>\n",
              "      <td>Everything was beatiful,  the hotel was amazin...</td>\n",
              "      <td>Good hotel</td>\n",
              "      <td>2024-10</td>\n",
              "      <td>COUPLES</td>\n",
              "      <td>https://www.tripadvisor.com/ShowUserReviews-g3...</td>\n",
              "      <td>{'userId': '4E94A6397EE2636375FFBD6A6158AA01',...</td>\n",
              "    </tr>\n",
              "  </tbody>\n",
              "</table>\n",
              "</div>\n",
              "    <div class=\"colab-df-buttons\">\n",
              "\n",
              "  <div class=\"colab-df-container\">\n",
              "    <button class=\"colab-df-convert\" onclick=\"convertToInteractive('df-9d901b86-b30f-450d-8be2-c50d1351faf9')\"\n",
              "            title=\"Convert this dataframe to an interactive table.\"\n",
              "            style=\"display:none;\">\n",
              "\n",
              "  <svg xmlns=\"http://www.w3.org/2000/svg\" height=\"24px\" viewBox=\"0 -960 960 960\">\n",
              "    <path d=\"M120-120v-720h720v720H120Zm60-500h600v-160H180v160Zm220 220h160v-160H400v160Zm0 220h160v-160H400v160ZM180-400h160v-160H180v160Zm440 0h160v-160H620v160ZM180-180h160v-160H180v160Zm440 0h160v-160H620v160Z\"/>\n",
              "  </svg>\n",
              "    </button>\n",
              "\n",
              "  <style>\n",
              "    .colab-df-container {\n",
              "      display:flex;\n",
              "      gap: 12px;\n",
              "    }\n",
              "\n",
              "    .colab-df-convert {\n",
              "      background-color: #E8F0FE;\n",
              "      border: none;\n",
              "      border-radius: 50%;\n",
              "      cursor: pointer;\n",
              "      display: none;\n",
              "      fill: #1967D2;\n",
              "      height: 32px;\n",
              "      padding: 0 0 0 0;\n",
              "      width: 32px;\n",
              "    }\n",
              "\n",
              "    .colab-df-convert:hover {\n",
              "      background-color: #E2EBFA;\n",
              "      box-shadow: 0px 1px 2px rgba(60, 64, 67, 0.3), 0px 1px 3px 1px rgba(60, 64, 67, 0.15);\n",
              "      fill: #174EA6;\n",
              "    }\n",
              "\n",
              "    .colab-df-buttons div {\n",
              "      margin-bottom: 4px;\n",
              "    }\n",
              "\n",
              "    [theme=dark] .colab-df-convert {\n",
              "      background-color: #3B4455;\n",
              "      fill: #D2E3FC;\n",
              "    }\n",
              "\n",
              "    [theme=dark] .colab-df-convert:hover {\n",
              "      background-color: #434B5C;\n",
              "      box-shadow: 0px 1px 3px 1px rgba(0, 0, 0, 0.15);\n",
              "      filter: drop-shadow(0px 1px 2px rgba(0, 0, 0, 0.3));\n",
              "      fill: #FFFFFF;\n",
              "    }\n",
              "  </style>\n",
              "\n",
              "    <script>\n",
              "      const buttonEl =\n",
              "        document.querySelector('#df-9d901b86-b30f-450d-8be2-c50d1351faf9 button.colab-df-convert');\n",
              "      buttonEl.style.display =\n",
              "        google.colab.kernel.accessAllowed ? 'block' : 'none';\n",
              "\n",
              "      async function convertToInteractive(key) {\n",
              "        const element = document.querySelector('#df-9d901b86-b30f-450d-8be2-c50d1351faf9');\n",
              "        const dataTable =\n",
              "          await google.colab.kernel.invokeFunction('convertToInteractive',\n",
              "                                                    [key], {});\n",
              "        if (!dataTable) return;\n",
              "\n",
              "        const docLinkHtml = 'Like what you see? Visit the ' +\n",
              "          '<a target=\"_blank\" href=https://colab.research.google.com/notebooks/data_table.ipynb>data table notebook</a>'\n",
              "          + ' to learn more about interactive tables.';\n",
              "        element.innerHTML = '';\n",
              "        dataTable['output_type'] = 'display_data';\n",
              "        await google.colab.output.renderOutput(dataTable, element);\n",
              "        const docLink = document.createElement('div');\n",
              "        docLink.innerHTML = docLinkHtml;\n",
              "        element.appendChild(docLink);\n",
              "      }\n",
              "    </script>\n",
              "  </div>\n",
              "\n",
              "\n",
              "<div id=\"df-1e562fb1-e038-4ae3-8a8b-a6237d60c4a2\">\n",
              "  <button class=\"colab-df-quickchart\" onclick=\"quickchart('df-1e562fb1-e038-4ae3-8a8b-a6237d60c4a2')\"\n",
              "            title=\"Suggest charts\"\n",
              "            style=\"display:none;\">\n",
              "\n",
              "<svg xmlns=\"http://www.w3.org/2000/svg\" height=\"24px\"viewBox=\"0 0 24 24\"\n",
              "     width=\"24px\">\n",
              "    <g>\n",
              "        <path d=\"M19 3H5c-1.1 0-2 .9-2 2v14c0 1.1.9 2 2 2h14c1.1 0 2-.9 2-2V5c0-1.1-.9-2-2-2zM9 17H7v-7h2v7zm4 0h-2V7h2v10zm4 0h-2v-4h2v4z\"/>\n",
              "    </g>\n",
              "</svg>\n",
              "  </button>\n",
              "\n",
              "<style>\n",
              "  .colab-df-quickchart {\n",
              "      --bg-color: #E8F0FE;\n",
              "      --fill-color: #1967D2;\n",
              "      --hover-bg-color: #E2EBFA;\n",
              "      --hover-fill-color: #174EA6;\n",
              "      --disabled-fill-color: #AAA;\n",
              "      --disabled-bg-color: #DDD;\n",
              "  }\n",
              "\n",
              "  [theme=dark] .colab-df-quickchart {\n",
              "      --bg-color: #3B4455;\n",
              "      --fill-color: #D2E3FC;\n",
              "      --hover-bg-color: #434B5C;\n",
              "      --hover-fill-color: #FFFFFF;\n",
              "      --disabled-bg-color: #3B4455;\n",
              "      --disabled-fill-color: #666;\n",
              "  }\n",
              "\n",
              "  .colab-df-quickchart {\n",
              "    background-color: var(--bg-color);\n",
              "    border: none;\n",
              "    border-radius: 50%;\n",
              "    cursor: pointer;\n",
              "    display: none;\n",
              "    fill: var(--fill-color);\n",
              "    height: 32px;\n",
              "    padding: 0;\n",
              "    width: 32px;\n",
              "  }\n",
              "\n",
              "  .colab-df-quickchart:hover {\n",
              "    background-color: var(--hover-bg-color);\n",
              "    box-shadow: 0 1px 2px rgba(60, 64, 67, 0.3), 0 1px 3px 1px rgba(60, 64, 67, 0.15);\n",
              "    fill: var(--button-hover-fill-color);\n",
              "  }\n",
              "\n",
              "  .colab-df-quickchart-complete:disabled,\n",
              "  .colab-df-quickchart-complete:disabled:hover {\n",
              "    background-color: var(--disabled-bg-color);\n",
              "    fill: var(--disabled-fill-color);\n",
              "    box-shadow: none;\n",
              "  }\n",
              "\n",
              "  .colab-df-spinner {\n",
              "    border: 2px solid var(--fill-color);\n",
              "    border-color: transparent;\n",
              "    border-bottom-color: var(--fill-color);\n",
              "    animation:\n",
              "      spin 1s steps(1) infinite;\n",
              "  }\n",
              "\n",
              "  @keyframes spin {\n",
              "    0% {\n",
              "      border-color: transparent;\n",
              "      border-bottom-color: var(--fill-color);\n",
              "      border-left-color: var(--fill-color);\n",
              "    }\n",
              "    20% {\n",
              "      border-color: transparent;\n",
              "      border-left-color: var(--fill-color);\n",
              "      border-top-color: var(--fill-color);\n",
              "    }\n",
              "    30% {\n",
              "      border-color: transparent;\n",
              "      border-left-color: var(--fill-color);\n",
              "      border-top-color: var(--fill-color);\n",
              "      border-right-color: var(--fill-color);\n",
              "    }\n",
              "    40% {\n",
              "      border-color: transparent;\n",
              "      border-right-color: var(--fill-color);\n",
              "      border-top-color: var(--fill-color);\n",
              "    }\n",
              "    60% {\n",
              "      border-color: transparent;\n",
              "      border-right-color: var(--fill-color);\n",
              "    }\n",
              "    80% {\n",
              "      border-color: transparent;\n",
              "      border-right-color: var(--fill-color);\n",
              "      border-bottom-color: var(--fill-color);\n",
              "    }\n",
              "    90% {\n",
              "      border-color: transparent;\n",
              "      border-bottom-color: var(--fill-color);\n",
              "    }\n",
              "  }\n",
              "</style>\n",
              "\n",
              "  <script>\n",
              "    async function quickchart(key) {\n",
              "      const quickchartButtonEl =\n",
              "        document.querySelector('#' + key + ' button');\n",
              "      quickchartButtonEl.disabled = true;  // To prevent multiple clicks.\n",
              "      quickchartButtonEl.classList.add('colab-df-spinner');\n",
              "      try {\n",
              "        const charts = await google.colab.kernel.invokeFunction(\n",
              "            'suggestCharts', [key], {});\n",
              "      } catch (error) {\n",
              "        console.error('Error during call to suggestCharts:', error);\n",
              "      }\n",
              "      quickchartButtonEl.classList.remove('colab-df-spinner');\n",
              "      quickchartButtonEl.classList.add('colab-df-quickchart-complete');\n",
              "    }\n",
              "    (() => {\n",
              "      let quickchartButtonEl =\n",
              "        document.querySelector('#df-1e562fb1-e038-4ae3-8a8b-a6237d60c4a2 button');\n",
              "      quickchartButtonEl.style.display =\n",
              "        google.colab.kernel.accessAllowed ? 'block' : 'none';\n",
              "    })();\n",
              "  </script>\n",
              "</div>\n",
              "\n",
              "    </div>\n",
              "  </div>\n"
            ],
            "application/vnd.google.colaboratory.intrinsic+json": {
              "type": "dataframe",
              "variable_name": "main_df",
              "summary": "{\n  \"name\": \"main_df\",\n  \"rows\": 6378,\n  \"fields\": [\n    {\n      \"column\": \"helpfulVotes\",\n      \"properties\": {\n        \"dtype\": \"number\",\n        \"std\": 0,\n        \"min\": 0,\n        \"max\": 60,\n        \"num_unique_values\": 7,\n        \"samples\": [\n          0,\n          1,\n          5\n        ],\n        \"semantic_type\": \"\",\n        \"description\": \"\"\n      }\n    },\n    {\n      \"column\": \"id\",\n      \"properties\": {\n        \"dtype\": \"number\",\n        \"std\": 13366786,\n        \"min\": 931892501,\n        \"max\": 978468821,\n        \"num_unique_values\": 6372,\n        \"samples\": [\n          978094264,\n          964720267,\n          948387057\n        ],\n        \"semantic_type\": \"\",\n        \"description\": \"\"\n      }\n    },\n    {\n      \"column\": \"lang\",\n      \"properties\": {\n        \"dtype\": \"category\",\n        \"num_unique_values\": 1,\n        \"samples\": [\n          \"en\"\n        ],\n        \"semantic_type\": \"\",\n        \"description\": \"\"\n      }\n    },\n    {\n      \"column\": \"locationId\",\n      \"properties\": {\n        \"dtype\": \"number\",\n        \"std\": 7436987,\n        \"min\": 302888,\n        \"max\": 28040522,\n        \"num_unique_values\": 215,\n        \"samples\": [\n          1637352\n        ],\n        \"semantic_type\": \"\",\n        \"description\": \"\"\n      }\n    },\n    {\n      \"column\": \"ownerResponse\",\n      \"properties\": {\n        \"dtype\": \"string\",\n        \"num_unique_values\": 4398,\n        \"samples\": [\n          \"{'id': '971284341', 'text': \\\"Dear berndsR3812QN,\\\\n\\\\nThank you for your wonderful feedback. We're delighted to hear that you had a relaxing stay and appreciated the friendly service and clean rooms.\\\\n\\\\nWarm regards,\\\\nManagement \\u2013 Boutique Collection by Amaya\\\", 'lang': 'en', 'publishedDate': '2024-09-25', 'responder': None, 'connectionToSubject': None}\"\n        ],\n        \"semantic_type\": \"\",\n        \"description\": \"\"\n      }\n    },\n    {\n      \"column\": \"photos\",\n      \"properties\": {\n        \"dtype\": \"category\",\n        \"num_unique_values\": 2279,\n        \"samples\": [\n          \"[{'id': '765947176', 'image': 'https://media-cdn.tripadvisor.com/media/photo-w/2d/a7/6d/28/caption.jpg', 'photoSizes': [{'url': 'https://dynamic-media-cdn.tripadvisor.com/media/photo-o/2d/a7/6d/28/caption.jpg?w=100&h=100&s=1', 'width': 0, 'height': 0}, {'url': 'https://media-cdn.tripadvisor.com/media/photo-t/2d/a7/6d/28/caption.jpg', 'width': 50, 'height': 50}, {'url': 'https://media-cdn.tripadvisor.com/media/photo-l/2d/a7/6d/28/caption.jpg', 'width': 150, 'height': 150}, {'url': 'https://media-cdn.tripadvisor.com/media/photo-f/2d/a7/6d/28/caption.jpg', 'width': 154, 'height': 205}, {'url': 'https://media-cdn.tripadvisor.com/media/photo-i/2d/a7/6d/28/caption.jpg', 'width': 180, 'height': 200}, {'url': 'https://media-cdn.tripadvisor.com/media/photo-s/2d/a7/6d/28/caption.jpg', 'width': 338, 'height': 450}, {'url': 'https://media-cdn.tripadvisor.com/media/photo-p/2d/a7/6d/28/caption.jpg', 'width': 550, 'height': 733}, {'url': 'https://media-cdn.tripadvisor.com/media/photo-m/1280/2d/a7/6d/28/caption.jpg', 'width': 960, 'height': 1280}, {'url': 'https://media-cdn.tripadvisor.com/media/photo-w/2d/a7/6d/28/caption.jpg', 'width': 1024, 'height': 1365}]}]\"\n        ],\n        \"semantic_type\": \"\",\n        \"description\": \"\"\n      }\n    },\n    {\n      \"column\": \"placeInfo\",\n      \"properties\": {\n        \"dtype\": \"category\",\n        \"num_unique_values\": 215,\n        \"samples\": [\n          \"{'id': '1637352', 'name': 'The Villa Bentota by KK Collection', 'rating': 4.5, 'numberOfReviews': 715, 'locationString': 'Bentota, Galle District, Southern Province', 'latitude': 6.414413, 'longitude': 79.99899, 'webUrl': 'https://www.tripadvisor.com/Hotel_Review-g297895-d1637352-Reviews-The_Villa_Bentota_by_KK_Collection-Bentota_Galle_District_Southern_Province.html', 'website': 'https://www.kkcollection.com/', 'address': '138 18 - 138/22 Galle Rd, Bentota 80500 Sri Lanka', 'addressObj': {'street1': '138 18 - 138/22 Galle Rd', 'street2': None, 'city': 'Bentota', 'state': None, 'country': 'Sri Lanka', 'postalcode': '80500'}, 'ratingHistogram': {'count1': 17, 'count2': 11, 'count3': 23, 'count4': 129, 'count5': 536}}\"\n        ],\n        \"semantic_type\": \"\",\n        \"description\": \"\"\n      }\n    },\n    {\n      \"column\": \"publishedDate\",\n      \"properties\": {\n        \"dtype\": \"object\",\n        \"num_unique_values\": 307,\n        \"samples\": [\n          \"2024-11-01\"\n        ],\n        \"semantic_type\": \"\",\n        \"description\": \"\"\n      }\n    },\n    {\n      \"column\": \"publishedPlatform\",\n      \"properties\": {\n        \"dtype\": \"category\",\n        \"num_unique_values\": 2,\n        \"samples\": [\n          \"OTHER\"\n        ],\n        \"semantic_type\": \"\",\n        \"description\": \"\"\n      }\n    },\n    {\n      \"column\": \"rating\",\n      \"properties\": {\n        \"dtype\": \"number\",\n        \"std\": 0,\n        \"min\": 1,\n        \"max\": 5,\n        \"num_unique_values\": 5,\n        \"samples\": [\n          4\n        ],\n        \"semantic_type\": \"\",\n        \"description\": \"\"\n      }\n    },\n    {\n      \"column\": \"roomTip\",\n      \"properties\": {\n        \"dtype\": \"category\",\n        \"num_unique_values\": 1185,\n        \"samples\": [\n          \"We went in the off-season. It was fairly quiet and the weather held up not too much rain.We went in the off-season.\"\n        ],\n        \"semantic_type\": \"\",\n        \"description\": \"\"\n      }\n    },\n    {\n      \"column\": \"subratings\",\n      \"properties\": {\n        \"dtype\": \"category\",\n        \"num_unique_values\": 439,\n        \"samples\": [\n          \"[{'name': 'Rooms', 'value': 4}, {'name': 'Location', 'value': 5}, {'name': 'Cleanliness', 'value': 4}, {'name': 'Service', 'value': 5}]\"\n        ],\n        \"semantic_type\": \"\",\n        \"description\": \"\"\n      }\n    },\n    {\n      \"column\": \"text\",\n      \"properties\": {\n        \"dtype\": \"string\",\n        \"num_unique_values\": 6372,\n        \"samples\": [\n          \"The Hotel Area is beautiful and the food is really good, we stayed for 4 days. \\nEven tho you are surrounded by staff members, service tends to be a bit slow. (50min waiting time for a sandwich) The beach is right outside of the Poolarea, but doesn't belong to the hotel. Therefore there was often a random guy waiting for guests to sell them some tuktuk tour or something. That was a bit annoying. Overall a pleasant stay.\"\n        ],\n        \"semantic_type\": \"\",\n        \"description\": \"\"\n      }\n    },\n    {\n      \"column\": \"title\",\n      \"properties\": {\n        \"dtype\": \"string\",\n        \"num_unique_values\": 5612,\n        \"samples\": [\n          \"The second week of an amazing trip into Sri Lanka. A country that we had never visited but definitely would recommend\"\n        ],\n        \"semantic_type\": \"\",\n        \"description\": \"\"\n      }\n    },\n    {\n      \"column\": \"travelDate\",\n      \"properties\": {\n        \"dtype\": \"category\",\n        \"num_unique_values\": 38,\n        \"samples\": [\n          \"2023-04\"\n        ],\n        \"semantic_type\": \"\",\n        \"description\": \"\"\n      }\n    },\n    {\n      \"column\": \"tripType\",\n      \"properties\": {\n        \"dtype\": \"category\",\n        \"num_unique_values\": 6,\n        \"samples\": [\n          \"FAMILY\"\n        ],\n        \"semantic_type\": \"\",\n        \"description\": \"\"\n      }\n    },\n    {\n      \"column\": \"url\",\n      \"properties\": {\n        \"dtype\": \"string\",\n        \"num_unique_values\": 6372,\n        \"samples\": [\n          \"https://www.tripadvisor.com/ShowUserReviews-g499081-d13493984-r978094264-The_Villas_Wadduwa-Wadduwa_Western_Province.html\"\n        ],\n        \"semantic_type\": \"\",\n        \"description\": \"\"\n      }\n    },\n    {\n      \"column\": \"user\",\n      \"properties\": {\n        \"dtype\": \"string\",\n        \"num_unique_values\": 5886,\n        \"samples\": [\n          \"{'userId': '579B5DF1A0D09BA9740D2C4703F98991', 'name': 'Mahesh M', 'contributions': {'totalContributions': 1, 'helpfulVotes': 0}, 'username': 'maheshmW5456CC', 'userLocation': None, 'avatar': 'https://media-cdn.tripadvisor.com/media/photo-o/1a/f6/f2/b8/default-avatar-2020-26.jpg', 'avatarVariations': {'id': '452391608', 'image': 'https://media-cdn.tripadvisor.com/media/photo-o/1a/f6/f2/b8/default-avatar-2020-26.jpg', 'photoSizes': [{'url': 'https://dynamic-media-cdn.tripadvisor.com/media/photo-o/1a/f6/f2/b8/default-avatar-2020-26.jpg?w=100&h=100&s=1', 'width': 0, 'height': 0}, {'url': 'https://media-cdn.tripadvisor.com/media/photo-t/1a/f6/f2/b8/default-avatar-2020-26.jpg', 'width': 50, 'height': 50}, {'url': 'https://media-cdn.tripadvisor.com/media/photo-l/1a/f6/f2/b8/default-avatar-2020-26.jpg', 'width': 150, 'height': 150}, {'url': 'https://media-cdn.tripadvisor.com/media/photo-i/1a/f6/f2/b8/default-avatar-2020-26.jpg', 'width': 180, 'height': 200}, {'url': 'https://media-cdn.tripadvisor.com/media/photo-f/1a/f6/f2/b8/default-avatar-2020-26.jpg', 'width': 205, 'height': 205}, {'url': 'https://media-cdn.tripadvisor.com/media/photo-s/1a/f6/f2/b8/default-avatar-2020-26.jpg', 'width': 450, 'height': 450}, {'url': 'https://media-cdn.tripadvisor.com/media/photo-p/1a/f6/f2/b8/default-avatar-2020-26.jpg', 'width': 550, 'height': 550}, {'url': 'https://media-cdn.tripadvisor.com/media/photo-w/1a/f6/f2/b8/default-avatar-2020-26.jpg', 'width': 1024, 'height': 1024}, {'url': 'https://media-cdn.tripadvisor.com/media/photo-o/1a/f6/f2/b8/default-avatar-2020-26.jpg', 'width': 1200, 'height': 1200}]}, 'link': 'www.tripadvisor.com/Profile/maheshmW5456CC'}\"\n        ],\n        \"semantic_type\": \"\",\n        \"description\": \"\"\n      }\n    }\n  ]\n}"
            }
          },
          "metadata": {},
          "execution_count": 9
        }
      ]
    },
    {
      "cell_type": "code",
      "source": [
        "# Get the columns of the first DataFrame as a reference\n",
        "reference_columns = dataframes[0].columns\n",
        "\n",
        "# Check if columns are the same in all DataFrames\n",
        "for i, df in enumerate(dataframes, 1):\n",
        "    if not df.columns.equals(reference_columns):\n",
        "        print(f\"DataFrame {i} has different columns.\")\n",
        "        print(\"Columns:\", df.columns)\n",
        "    else:\n",
        "        print(f\"DataFrame {i} has the same columns.\")\n"
      ],
      "metadata": {
        "colab": {
          "base_uri": "https://localhost:8080/"
        },
        "id": "5uSVXrLecBPp",
        "outputId": "4594900c-598d-4285-968b-61c7eee4bbce"
      },
      "execution_count": null,
      "outputs": [
        {
          "output_type": "stream",
          "name": "stdout",
          "text": [
            "DataFrame 1 has the same columns.\n",
            "DataFrame 2 has the same columns.\n",
            "DataFrame 3 has the same columns.\n",
            "DataFrame 4 has the same columns.\n",
            "DataFrame 5 has the same columns.\n",
            "DataFrame 6 has the same columns.\n",
            "DataFrame 7 has the same columns.\n",
            "DataFrame 8 has the same columns.\n",
            "DataFrame 9 has the same columns.\n",
            "DataFrame 10 has the same columns.\n",
            "DataFrame 11 has the same columns.\n",
            "DataFrame 12 has the same columns.\n",
            "DataFrame 13 has the same columns.\n",
            "DataFrame 14 has the same columns.\n",
            "DataFrame 15 has the same columns.\n",
            "DataFrame 16 has the same columns.\n",
            "DataFrame 17 has the same columns.\n",
            "DataFrame 18 has the same columns.\n",
            "DataFrame 19 has the same columns.\n"
          ]
        }
      ]
    },
    {
      "cell_type": "markdown",
      "source": [
        "Data Cleaning"
      ],
      "metadata": {
        "id": "J0oBi7z-kojJ"
      }
    },
    {
      "cell_type": "code",
      "source": [
        "!pip install emoji"
      ],
      "metadata": {
        "colab": {
          "base_uri": "https://localhost:8080/"
        },
        "id": "bqwVXrxGx0-K",
        "outputId": "a19701de-5215-47a6-ed14-8f125b302799"
      },
      "execution_count": null,
      "outputs": [
        {
          "output_type": "stream",
          "name": "stdout",
          "text": [
            "Collecting emoji\n",
            "  Downloading emoji-2.14.0-py3-none-any.whl.metadata (5.7 kB)\n",
            "Downloading emoji-2.14.0-py3-none-any.whl (586 kB)\n",
            "\u001b[2K   \u001b[90m━━━━━━━━━━━━━━━━━━━━━━━━━━━━━━━━━━━━━━━━\u001b[0m \u001b[32m586.9/586.9 kB\u001b[0m \u001b[31m13.1 MB/s\u001b[0m eta \u001b[36m0:00:00\u001b[0m\n",
            "\u001b[?25hInstalling collected packages: emoji\n",
            "Successfully installed emoji-2.14.0\n"
          ]
        }
      ]
    },
    {
      "cell_type": "code",
      "source": [
        "import re\n",
        "import nltk\n",
        "import emoji\n",
        "from nltk.corpus import stopwords\n",
        "from nltk.stem import WordNetLemmatizer\n",
        "\n",
        "# Download stopwords and wordnet if needed\n",
        "nltk.download('stopwords')\n",
        "nltk.download('wordnet')\n",
        "\n",
        "stop_words = set(stopwords.words('english'))\n",
        "lemmatizer = WordNetLemmatizer()\n",
        "\n",
        "def clean_text(text):\n",
        "    text = emoji.demojize(text)  # Replace emojis with descriptive text like :smiling_face:\n",
        "    text = text.lower()  # Convert to lowercase\n",
        "    text = re.sub(r'[^a-z\\s:]', '', text)  # Remove non-alphanumeric characters except colons for emoji descriptions\n",
        "    words = text.split()\n",
        "    words = [lemmatizer.lemmatize(word) for word in words if word not in stop_words]  # Lemmatize and remove stopwords\n",
        "    return ' '.join(words)\n",
        "\n",
        "main_df['cleaned_text'] = main_df['text'].apply(clean_text)\n"
      ],
      "metadata": {
        "colab": {
          "base_uri": "https://localhost:8080/"
        },
        "id": "E4LnJKnDcBNK",
        "outputId": "f0212575-1fc7-44c7-872c-6605c804595f"
      },
      "execution_count": null,
      "outputs": [
        {
          "output_type": "stream",
          "name": "stderr",
          "text": [
            "[nltk_data] Downloading package stopwords to /root/nltk_data...\n",
            "[nltk_data]   Unzipping corpora/stopwords.zip.\n",
            "[nltk_data] Downloading package wordnet to /root/nltk_data...\n"
          ]
        }
      ]
    },
    {
      "cell_type": "markdown",
      "source": [
        "Describe Data"
      ],
      "metadata": {
        "id": "YjjX59uYlCAC"
      }
    },
    {
      "cell_type": "code",
      "source": [
        "num_hotels = main_df['locationId'].nunique()\n",
        "print(f\"Number of hotels: {num_hotels}\")"
      ],
      "metadata": {
        "colab": {
          "base_uri": "https://localhost:8080/"
        },
        "id": "JyHMZN90fIne",
        "outputId": "a2e1a055-293b-4f3a-d2c8-8b63f4f2aa1e"
      },
      "execution_count": null,
      "outputs": [
        {
          "output_type": "stream",
          "name": "stdout",
          "text": [
            "Number of hotels: 215\n"
          ]
        }
      ]
    },
    {
      "cell_type": "code",
      "source": [
        "reviews_per_hotel = main_df.groupby('locationId')['id'].count()\n",
        "print(reviews_per_hotel)"
      ],
      "metadata": {
        "colab": {
          "base_uri": "https://localhost:8080/"
        },
        "id": "Fl96-t6OfIk3",
        "outputId": "26ca4504-2a47-4d77-e5f6-2f0ac164fc48"
      },
      "execution_count": null,
      "outputs": [
        {
          "output_type": "stream",
          "name": "stdout",
          "text": [
            "locationId\n",
            "302888      58\n",
            "304700      48\n",
            "306376      50\n",
            "306383      49\n",
            "308529      50\n",
            "            ..\n",
            "25983119    49\n",
            "26194654    50\n",
            "26226338    58\n",
            "26325123    21\n",
            "28040522    47\n",
            "Name: id, Length: 215, dtype: int64\n"
          ]
        }
      ]
    },
    {
      "cell_type": "code",
      "source": [
        "total_words = main_df['cleaned_text'].str.split().apply(len).sum()\n",
        "print(f\"Total number of words: {total_words}\")"
      ],
      "metadata": {
        "colab": {
          "base_uri": "https://localhost:8080/"
        },
        "id": "axA3RRDUfIh-",
        "outputId": "6604b704-52e2-4a81-a115-565f9323744c"
      },
      "execution_count": null,
      "outputs": [
        {
          "output_type": "stream",
          "name": "stdout",
          "text": [
            "Total number of words: 307714\n"
          ]
        }
      ]
    },
    {
      "cell_type": "code",
      "source": [
        "unique_words = set(\" \".join(main_df['cleaned_text']).split())\n",
        "num_unique_words = len(unique_words)\n",
        "print(f\"Number of unique words: {num_unique_words}\")"
      ],
      "metadata": {
        "colab": {
          "base_uri": "https://localhost:8080/"
        },
        "id": "rtzgFc_afIfT",
        "outputId": "00616ca4-aa1b-4866-de46-a6df2cb50501"
      },
      "execution_count": null,
      "outputs": [
        {
          "output_type": "stream",
          "name": "stdout",
          "text": [
            "Number of unique words: 16947\n"
          ]
        }
      ]
    },
    {
      "cell_type": "code",
      "source": [
        "import matplotlib.pyplot as plt\n",
        "\n",
        "review_lengths = main_df['cleaned_text'].str.split().apply(len)\n",
        "plt.hist(review_lengths, bins=30, color='skyblue', edgecolor='black')\n",
        "plt.xlabel('Review Length (in words)')\n",
        "plt.ylabel('Frequency')\n",
        "plt.title('Histogram of Review Lengths')\n",
        "plt.show()"
      ],
      "metadata": {
        "colab": {
          "base_uri": "https://localhost:8080/",
          "height": 492
        },
        "id": "QcWvZNEPfIcd",
        "outputId": "8b50a39a-c566-42d7-d9bd-4234a2a2a3c2"
      },
      "execution_count": null,
      "outputs": [
        {
          "output_type": "display_data",
          "data": {
            "text/plain": [
              "<Figure size 640x480 with 1 Axes>"
            ],
            "image/png": "[encoded data removed]"
          },
          "metadata": {}
        }
      ]
    },
    {
      "cell_type": "code",
      "source": [
        "import ast\n",
        "\n",
        "# Convert placeInfo strings to dictionaries (if they are strings)\n",
        "main_df['placeInfo'] = main_df['placeInfo'].apply(lambda x: ast.literal_eval(x) if isinstance(x, str) else x)"
      ],
      "metadata": {
        "id": "LRAGYU0uyfEZ"
      },
      "execution_count": null,
      "outputs": []
    },
    {
      "cell_type": "code",
      "source": [
        "# Define a function to safely extract the values from placeInfo\n",
        "def extract_info(row):\n",
        "    if isinstance(row, dict):  # Check if the row is a dictionary\n",
        "        name = row.get('name', None)\n",
        "        city = row.get('addressObj', {}).get('city', None)  # Safe access to nested city\n",
        "        return pd.Series([name, city])\n",
        "    else:\n",
        "        return pd.Series([None, None])  # Return None if placeInfo is not a dictionary\n",
        "\n",
        "# Apply the function to placeInfo and store the results in new columns\n",
        "main_df[['hotel_name', 'city']] = main_df['placeInfo'].apply(extract_info)\n"
      ],
      "metadata": {
        "id": "FJTTovYKyiZl"
      },
      "execution_count": null,
      "outputs": []
    },
    {
      "cell_type": "code",
      "source": [
        "# Display the extracted columns with the unique ID\n",
        "main_df.head()"
      ],
      "metadata": {
        "colab": {
          "base_uri": "https://localhost:8080/",
          "height": 690
        },
        "id": "R-cCo3Ymykm9",
        "outputId": "824fa3e2-53c7-4f2e-d33c-0d8651d047d0"
      },
      "execution_count": null,
      "outputs": [
        {
          "output_type": "execute_result",
          "data": {
            "text/plain": [
              "   helpfulVotes         id lang  locationId  \\\n",
              "0             0  976855792   en      447407   \n",
              "1             0  976848001   en      447407   \n",
              "2             0  976658737   en      447407   \n",
              "3             0  976658654   en      447407   \n",
              "4             0  974741618   en      447407   \n",
              "\n",
              "                                       ownerResponse  \\\n",
              "0                                                NaN   \n",
              "1  {'id': '978350655', 'text': \"Dear Natashaw,\\n\\...   \n",
              "2  {'id': '978350091', 'text': 'Dear Jeewa Godage...   \n",
              "3  {'id': '978349493', 'text': \"Dear Guest.\\n\\nWa...   \n",
              "4  {'id': '974892951', 'text': \"Dear Guest,\\n\\nWa...   \n",
              "\n",
              "                                              photos  \\\n",
              "0                                                 []   \n",
              "1                                                 []   \n",
              "2  [{'id': '770115169', 'image': 'https://media-c...   \n",
              "3  [{'id': '770115172', 'image': 'https://media-c...   \n",
              "4                                                 []   \n",
              "\n",
              "                                           placeInfo publishedDate  \\\n",
              "0  {'id': '447407', 'name': 'Sigiriya Village Hot...    2024-10-27   \n",
              "1  {'id': '447407', 'name': 'Sigiriya Village Hot...    2024-10-27   \n",
              "2  {'id': '447407', 'name': 'Sigiriya Village Hot...    2024-10-25   \n",
              "3  {'id': '447407', 'name': 'Sigiriya Village Hot...    2024-10-25   \n",
              "4  {'id': '447407', 'name': 'Sigiriya Village Hot...    2024-10-20   \n",
              "\n",
              "  publishedPlatform  rating  ...  \\\n",
              "0            MOBILE       5  ...   \n",
              "1             OTHER       5  ...   \n",
              "2             OTHER       5  ...   \n",
              "3            MOBILE       4  ...   \n",
              "4             OTHER       5  ...   \n",
              "\n",
              "                                                text  \\\n",
              "0  We have been fortunate to meet the  head chef ...   \n",
              "1  Myself and my family had a great time at Sigir...   \n",
              "2  We had a really nice one night in sigiriya vil...   \n",
              "3  The rooms in this hotel are huge ,very comfy a...   \n",
              "4  Everything was beatiful,  the hotel was amazin...   \n",
              "\n",
              "                                               title travelDate tripType  \\\n",
              "0        Excellent chef and service. Very attentive.    2024-10   FAMILY   \n",
              "1                         Great hotel and restaurant    2024-10   FAMILY   \n",
              "2  Had a fantastic weekend in the sigiriya villag...    2024-10  FRIENDS   \n",
              "3                                     Lots going on     2024-10  COUPLES   \n",
              "4                                         Good hotel    2024-10  COUPLES   \n",
              "\n",
              "                                                 url  \\\n",
              "0  https://www.tripadvisor.com/ShowUserReviews-g3...   \n",
              "1  https://www.tripadvisor.com/ShowUserReviews-g3...   \n",
              "2  https://www.tripadvisor.com/ShowUserReviews-g3...   \n",
              "3  https://www.tripadvisor.com/ShowUserReviews-g3...   \n",
              "4  https://www.tripadvisor.com/ShowUserReviews-g3...   \n",
              "\n",
              "                                                user  \\\n",
              "0  {'userId': '22C31251ACF7FD45781977BF2FD9F49E',...   \n",
              "1  {'userId': '500C57E358033358E19AB89A0A4ECD19',...   \n",
              "2  {'userId': '64AB7003B6A561B6DB860C9C9FF9BC29',...   \n",
              "3  {'userId': '23DF5EF1C6CB1BD10247293D0A824BD2',...   \n",
              "4  {'userId': '4E94A6397EE2636375FFBD6A6158AA01',...   \n",
              "\n",
              "                                        cleaned_text  \\\n",
              "0  fortunate meet head chef manjula perera person...   \n",
              "1  family great time sigiriya village highlight u...   \n",
              "2  really nice one night sigiriya village highly ...   \n",
              "3  room hotel huge comfy quiet restaurant bar are...   \n",
              "4  everything beatiful hotel amazing food also go...   \n",
              "\n",
              "                                      tokenized_text              hotel_name  \\\n",
              "0  fortunate meet head chef manjula perera person...  Sigiriya Village Hotel   \n",
              "1  chef manjula perera hotel great sigiriya villa...  Sigiriya Village Hotel   \n",
              "2  great sigiriya village food sigiriya village r...  Sigiriya Village Hotel   \n",
              "3  hotel village sri lankan food sri lankan lanka...  Sigiriya Village Hotel   \n",
              "4  hotel sigiriya food family good everything bea...  Sigiriya Village Hotel   \n",
              "\n",
              "       city  \n",
              "0  Sigiriya  \n",
              "1  Sigiriya  \n",
              "2  Sigiriya  \n",
              "3  Sigiriya  \n",
              "4  Sigiriya  \n",
              "\n",
              "[5 rows x 22 columns]"
            ],
            "text/html": [
              "\n",
              "  <div id=\"df-fc571c69-6c23-4718-8795-8c0e8a5763e0\" class=\"colab-df-container\">\n",
              "    <div>\n",
              "<style scoped>\n",
              "    .dataframe tbody tr th:only-of-type {\n",
              "        vertical-align: middle;\n",
              "    }\n",
              "\n",
              "    .dataframe tbody tr th {\n",
              "        vertical-align: top;\n",
              "    }\n",
              "\n",
              "    .dataframe thead th {\n",
              "        text-align: right;\n",
              "    }\n",
              "</style>\n",
              "<table border=\"1\" class=\"dataframe\">\n",
              "  <thead>\n",
              "    <tr style=\"text-align: right;\">\n",
              "      <th></th>\n",
              "      <th>helpfulVotes</th>\n",
              "      <th>id</th>\n",
              "      <th>lang</th>\n",
              "      <th>locationId</th>\n",
              "      <th>ownerResponse</th>\n",
              "      <th>photos</th>\n",
              "      <th>placeInfo</th>\n",
              "      <th>publishedDate</th>\n",
              "      <th>publishedPlatform</th>\n",
              "      <th>rating</th>\n",
              "      <th>...</th>\n",
              "      <th>text</th>\n",
              "      <th>title</th>\n",
              "      <th>travelDate</th>\n",
              "      <th>tripType</th>\n",
              "      <th>url</th>\n",
              "      <th>user</th>\n",
              "      <th>cleaned_text</th>\n",
              "      <th>tokenized_text</th>\n",
              "      <th>hotel_name</th>\n",
              "      <th>city</th>\n",
              "    </tr>\n",
              "  </thead>\n",
              "  <tbody>\n",
              "    <tr>\n",
              "      <th>0</th>\n",
              "      <td>0</td>\n",
              "      <td>976855792</td>\n",
              "      <td>en</td>\n",
              "      <td>447407</td>\n",
              "      <td>NaN</td>\n",
              "      <td>[]</td>\n",
              "      <td>{'id': '447407', 'name': 'Sigiriya Village Hot...</td>\n",
              "      <td>2024-10-27</td>\n",
              "      <td>MOBILE</td>\n",
              "      <td>5</td>\n",
              "      <td>...</td>\n",
              "      <td>We have been fortunate to meet the  head chef ...</td>\n",
              "      <td>Excellent chef and service. Very attentive.</td>\n",
              "      <td>2024-10</td>\n",
              "      <td>FAMILY</td>\n",
              "      <td>https://www.tripadvisor.com/ShowUserReviews-g3...</td>\n",
              "      <td>{'userId': '22C31251ACF7FD45781977BF2FD9F49E',...</td>\n",
              "      <td>fortunate meet head chef manjula perera person...</td>\n",
              "      <td>fortunate meet head chef manjula perera person...</td>\n",
              "      <td>Sigiriya Village Hotel</td>\n",
              "      <td>Sigiriya</td>\n",
              "    </tr>\n",
              "    <tr>\n",
              "      <th>1</th>\n",
              "      <td>0</td>\n",
              "      <td>976848001</td>\n",
              "      <td>en</td>\n",
              "      <td>447407</td>\n",
              "      <td>{'id': '978350655', 'text': \"Dear Natashaw,\\n\\...</td>\n",
              "      <td>[]</td>\n",
              "      <td>{'id': '447407', 'name': 'Sigiriya Village Hot...</td>\n",
              "      <td>2024-10-27</td>\n",
              "      <td>OTHER</td>\n",
              "      <td>5</td>\n",
              "      <td>...</td>\n",
              "      <td>Myself and my family had a great time at Sigir...</td>\n",
              "      <td>Great hotel and restaurant</td>\n",
              "      <td>2024-10</td>\n",
              "      <td>FAMILY</td>\n",
              "      <td>https://www.tripadvisor.com/ShowUserReviews-g3...</td>\n",
              "      <td>{'userId': '500C57E358033358E19AB89A0A4ECD19',...</td>\n",
              "      <td>family great time sigiriya village highlight u...</td>\n",
              "      <td>chef manjula perera hotel great sigiriya villa...</td>\n",
              "      <td>Sigiriya Village Hotel</td>\n",
              "      <td>Sigiriya</td>\n",
              "    </tr>\n",
              "    <tr>\n",
              "      <th>2</th>\n",
              "      <td>0</td>\n",
              "      <td>976658737</td>\n",
              "      <td>en</td>\n",
              "      <td>447407</td>\n",
              "      <td>{'id': '978350091', 'text': 'Dear Jeewa Godage...</td>\n",
              "      <td>[{'id': '770115169', 'image': 'https://media-c...</td>\n",
              "      <td>{'id': '447407', 'name': 'Sigiriya Village Hot...</td>\n",
              "      <td>2024-10-25</td>\n",
              "      <td>OTHER</td>\n",
              "      <td>5</td>\n",
              "      <td>...</td>\n",
              "      <td>We had a really nice one night in sigiriya vil...</td>\n",
              "      <td>Had a fantastic weekend in the sigiriya villag...</td>\n",
              "      <td>2024-10</td>\n",
              "      <td>FRIENDS</td>\n",
              "      <td>https://www.tripadvisor.com/ShowUserReviews-g3...</td>\n",
              "      <td>{'userId': '64AB7003B6A561B6DB860C9C9FF9BC29',...</td>\n",
              "      <td>really nice one night sigiriya village highly ...</td>\n",
              "      <td>great sigiriya village food sigiriya village r...</td>\n",
              "      <td>Sigiriya Village Hotel</td>\n",
              "      <td>Sigiriya</td>\n",
              "    </tr>\n",
              "    <tr>\n",
              "      <th>3</th>\n",
              "      <td>0</td>\n",
              "      <td>976658654</td>\n",
              "      <td>en</td>\n",
              "      <td>447407</td>\n",
              "      <td>{'id': '978349493', 'text': \"Dear Guest.\\n\\nWa...</td>\n",
              "      <td>[{'id': '770115172', 'image': 'https://media-c...</td>\n",
              "      <td>{'id': '447407', 'name': 'Sigiriya Village Hot...</td>\n",
              "      <td>2024-10-25</td>\n",
              "      <td>MOBILE</td>\n",
              "      <td>4</td>\n",
              "      <td>...</td>\n",
              "      <td>The rooms in this hotel are huge ,very comfy a...</td>\n",
              "      <td>Lots going on</td>\n",
              "      <td>2024-10</td>\n",
              "      <td>COUPLES</td>\n",
              "      <td>https://www.tripadvisor.com/ShowUserReviews-g3...</td>\n",
              "      <td>{'userId': '23DF5EF1C6CB1BD10247293D0A824BD2',...</td>\n",
              "      <td>room hotel huge comfy quiet restaurant bar are...</td>\n",
              "      <td>hotel village sri lankan food sri lankan lanka...</td>\n",
              "      <td>Sigiriya Village Hotel</td>\n",
              "      <td>Sigiriya</td>\n",
              "    </tr>\n",
              "    <tr>\n",
              "      <th>4</th>\n",
              "      <td>0</td>\n",
              "      <td>974741618</td>\n",
              "      <td>en</td>\n",
              "      <td>447407</td>\n",
              "      <td>{'id': '974892951', 'text': \"Dear Guest,\\n\\nWa...</td>\n",
              "      <td>[]</td>\n",
              "      <td>{'id': '447407', 'name': 'Sigiriya Village Hot...</td>\n",
              "      <td>2024-10-20</td>\n",
              "      <td>OTHER</td>\n",
              "      <td>5</td>\n",
              "      <td>...</td>\n",
              "      <td>Everything was beatiful,  the hotel was amazin...</td>\n",
              "      <td>Good hotel</td>\n",
              "      <td>2024-10</td>\n",
              "      <td>COUPLES</td>\n",
              "      <td>https://www.tripadvisor.com/ShowUserReviews-g3...</td>\n",
              "      <td>{'userId': '4E94A6397EE2636375FFBD6A6158AA01',...</td>\n",
              "      <td>everything beatiful hotel amazing food also go...</td>\n",
              "      <td>hotel sigiriya food family good everything bea...</td>\n",
              "      <td>Sigiriya Village Hotel</td>\n",
              "      <td>Sigiriya</td>\n",
              "    </tr>\n",
              "  </tbody>\n",
              "</table>\n",
              "<p>5 rows × 22 columns</p>\n",
              "</div>\n",
              "    <div class=\"colab-df-buttons\">\n",
              "\n",
              "  <div class=\"colab-df-container\">\n",
              "    <button class=\"colab-df-convert\" onclick=\"convertToInteractive('df-fc571c69-6c23-4718-8795-8c0e8a5763e0')\"\n",
              "            title=\"Convert this dataframe to an interactive table.\"\n",
              "            style=\"display:none;\">\n",
              "\n",
              "  <svg xmlns=\"http://www.w3.org/2000/svg\" height=\"24px\" viewBox=\"0 -960 960 960\">\n",
              "    <path d=\"M120-120v-720h720v720H120Zm60-500h600v-160H180v160Zm220 220h160v-160H400v160Zm0 220h160v-160H400v160ZM180-400h160v-160H180v160Zm440 0h160v-160H620v160ZM180-180h160v-160H180v160Zm440 0h160v-160H620v160Z\"/>\n",
              "  </svg>\n",
              "    </button>\n",
              "\n",
              "  <style>\n",
              "    .colab-df-container {\n",
              "      display:flex;\n",
              "      gap: 12px;\n",
              "    }\n",
              "\n",
              "    .colab-df-convert {\n",
              "      background-color: #E8F0FE;\n",
              "      border: none;\n",
              "      border-radius: 50%;\n",
              "      cursor: pointer;\n",
              "      display: none;\n",
              "      fill: #1967D2;\n",
              "      height: 32px;\n",
              "      padding: 0 0 0 0;\n",
              "      width: 32px;\n",
              "    }\n",
              "\n",
              "    .colab-df-convert:hover {\n",
              "      background-color: #E2EBFA;\n",
              "      box-shadow: 0px 1px 2px rgba(60, 64, 67, 0.3), 0px 1px 3px 1px rgba(60, 64, 67, 0.15);\n",
              "      fill: #174EA6;\n",
              "    }\n",
              "\n",
              "    .colab-df-buttons div {\n",
              "      margin-bottom: 4px;\n",
              "    }\n",
              "\n",
              "    [theme=dark] .colab-df-convert {\n",
              "      background-color: #3B4455;\n",
              "      fill: #D2E3FC;\n",
              "    }\n",
              "\n",
              "    [theme=dark] .colab-df-convert:hover {\n",
              "      background-color: #434B5C;\n",
              "      box-shadow: 0px 1px 3px 1px rgba(0, 0, 0, 0.15);\n",
              "      filter: drop-shadow(0px 1px 2px rgba(0, 0, 0, 0.3));\n",
              "      fill: #FFFFFF;\n",
              "    }\n",
              "  </style>\n",
              "\n",
              "    <script>\n",
              "      const buttonEl =\n",
              "        document.querySelector('#df-fc571c69-6c23-4718-8795-8c0e8a5763e0 button.colab-df-convert');\n",
              "      buttonEl.style.display =\n",
              "        google.colab.kernel.accessAllowed ? 'block' : 'none';\n",
              "\n",
              "      async function convertToInteractive(key) {\n",
              "        const element = document.querySelector('#df-fc571c69-6c23-4718-8795-8c0e8a5763e0');\n",
              "        const dataTable =\n",
              "          await google.colab.kernel.invokeFunction('convertToInteractive',\n",
              "                                                    [key], {});\n",
              "        if (!dataTable) return;\n",
              "\n",
              "        const docLinkHtml = 'Like what you see? Visit the ' +\n",
              "          '<a target=\"_blank\" href=https://colab.research.google.com/notebooks/data_table.ipynb>data table notebook</a>'\n",
              "          + ' to learn more about interactive tables.';\n",
              "        element.innerHTML = '';\n",
              "        dataTable['output_type'] = 'display_data';\n",
              "        await google.colab.output.renderOutput(dataTable, element);\n",
              "        const docLink = document.createElement('div');\n",
              "        docLink.innerHTML = docLinkHtml;\n",
              "        element.appendChild(docLink);\n",
              "      }\n",
              "    </script>\n",
              "  </div>\n",
              "\n",
              "\n",
              "<div id=\"df-69b866e7-43df-40c0-ae73-dfb89dedbb21\">\n",
              "  <button class=\"colab-df-quickchart\" onclick=\"quickchart('df-69b866e7-43df-40c0-ae73-dfb89dedbb21')\"\n",
              "            title=\"Suggest charts\"\n",
              "            style=\"display:none;\">\n",
              "\n",
              "<svg xmlns=\"http://www.w3.org/2000/svg\" height=\"24px\"viewBox=\"0 0 24 24\"\n",
              "     width=\"24px\">\n",
              "    <g>\n",
              "        <path d=\"M19 3H5c-1.1 0-2 .9-2 2v14c0 1.1.9 2 2 2h14c1.1 0 2-.9 2-2V5c0-1.1-.9-2-2-2zM9 17H7v-7h2v7zm4 0h-2V7h2v10zm4 0h-2v-4h2v4z\"/>\n",
              "    </g>\n",
              "</svg>\n",
              "  </button>\n",
              "\n",
              "<style>\n",
              "  .colab-df-quickchart {\n",
              "      --bg-color: #E8F0FE;\n",
              "      --fill-color: #1967D2;\n",
              "      --hover-bg-color: #E2EBFA;\n",
              "      --hover-fill-color: #174EA6;\n",
              "      --disabled-fill-color: #AAA;\n",
              "      --disabled-bg-color: #DDD;\n",
              "  }\n",
              "\n",
              "  [theme=dark] .colab-df-quickchart {\n",
              "      --bg-color: #3B4455;\n",
              "      --fill-color: #D2E3FC;\n",
              "      --hover-bg-color: #434B5C;\n",
              "      --hover-fill-color: #FFFFFF;\n",
              "      --disabled-bg-color: #3B4455;\n",
              "      --disabled-fill-color: #666;\n",
              "  }\n",
              "\n",
              "  .colab-df-quickchart {\n",
              "    background-color: var(--bg-color);\n",
              "    border: none;\n",
              "    border-radius: 50%;\n",
              "    cursor: pointer;\n",
              "    display: none;\n",
              "    fill: var(--fill-color);\n",
              "    height: 32px;\n",
              "    padding: 0;\n",
              "    width: 32px;\n",
              "  }\n",
              "\n",
              "  .colab-df-quickchart:hover {\n",
              "    background-color: var(--hover-bg-color);\n",
              "    box-shadow: 0 1px 2px rgba(60, 64, 67, 0.3), 0 1px 3px 1px rgba(60, 64, 67, 0.15);\n",
              "    fill: var(--button-hover-fill-color);\n",
              "  }\n",
              "\n",
              "  .colab-df-quickchart-complete:disabled,\n",
              "  .colab-df-quickchart-complete:disabled:hover {\n",
              "    background-color: var(--disabled-bg-color);\n",
              "    fill: var(--disabled-fill-color);\n",
              "    box-shadow: none;\n",
              "  }\n",
              "\n",
              "  .colab-df-spinner {\n",
              "    border: 2px solid var(--fill-color);\n",
              "    border-color: transparent;\n",
              "    border-bottom-color: var(--fill-color);\n",
              "    animation:\n",
              "      spin 1s steps(1) infinite;\n",
              "  }\n",
              "\n",
              "  @keyframes spin {\n",
              "    0% {\n",
              "      border-color: transparent;\n",
              "      border-bottom-color: var(--fill-color);\n",
              "      border-left-color: var(--fill-color);\n",
              "    }\n",
              "    20% {\n",
              "      border-color: transparent;\n",
              "      border-left-color: var(--fill-color);\n",
              "      border-top-color: var(--fill-color);\n",
              "    }\n",
              "    30% {\n",
              "      border-color: transparent;\n",
              "      border-left-color: var(--fill-color);\n",
              "      border-top-color: var(--fill-color);\n",
              "      border-right-color: var(--fill-color);\n",
              "    }\n",
              "    40% {\n",
              "      border-color: transparent;\n",
              "      border-right-color: var(--fill-color);\n",
              "      border-top-color: var(--fill-color);\n",
              "    }\n",
              "    60% {\n",
              "      border-color: transparent;\n",
              "      border-right-color: var(--fill-color);\n",
              "    }\n",
              "    80% {\n",
              "      border-color: transparent;\n",
              "      border-right-color: var(--fill-color);\n",
              "      border-bottom-color: var(--fill-color);\n",
              "    }\n",
              "    90% {\n",
              "      border-color: transparent;\n",
              "      border-bottom-color: var(--fill-color);\n",
              "    }\n",
              "  }\n",
              "</style>\n",
              "\n",
              "  <script>\n",
              "    async function quickchart(key) {\n",
              "      const quickchartButtonEl =\n",
              "        document.querySelector('#' + key + ' button');\n",
              "      quickchartButtonEl.disabled = true;  // To prevent multiple clicks.\n",
              "      quickchartButtonEl.classList.add('colab-df-spinner');\n",
              "      try {\n",
              "        const charts = await google.colab.kernel.invokeFunction(\n",
              "            'suggestCharts', [key], {});\n",
              "      } catch (error) {\n",
              "        console.error('Error during call to suggestCharts:', error);\n",
              "      }\n",
              "      quickchartButtonEl.classList.remove('colab-df-spinner');\n",
              "      quickchartButtonEl.classList.add('colab-df-quickchart-complete');\n",
              "    }\n",
              "    (() => {\n",
              "      let quickchartButtonEl =\n",
              "        document.querySelector('#df-69b866e7-43df-40c0-ae73-dfb89dedbb21 button');\n",
              "      quickchartButtonEl.style.display =\n",
              "        google.colab.kernel.accessAllowed ? 'block' : 'none';\n",
              "    })();\n",
              "  </script>\n",
              "</div>\n",
              "\n",
              "    </div>\n",
              "  </div>\n"
            ],
            "application/vnd.google.colaboratory.intrinsic+json": {
              "type": "dataframe",
              "variable_name": "main_df"
            }
          },
          "metadata": {},
          "execution_count": 27
        }
      ]
    },
    {
      "cell_type": "markdown",
      "source": [
        "Apply Tokenization"
      ],
      "metadata": {
        "id": "tsYmdO7xlEdf"
      }
    },
    {
      "cell_type": "code",
      "source": [
        "import pandas as pd\n",
        "from sklearn.feature_extraction.text import CountVectorizer"
      ],
      "metadata": {
        "id": "e0ZqXHbTfIZ0"
      },
      "execution_count": null,
      "outputs": []
    },
    {
      "cell_type": "code",
      "source": [
        "# Initialize CountVectorizer for word-level and bigram tokenization\n",
        "vectorizer = CountVectorizer(ngram_range=(1, 2))  # Word-Level and Bigram tokenization\n",
        "\n",
        "# Apply vectorizer to the 'cleaned_text' column and create a new column for the tokenized data\n",
        "def tokenize_and_add(df, column_name):\n",
        "    # Transform the text data into a list of tokens (word-level and bigrams)\n",
        "    tokens = vectorizer.fit_transform(df[column_name])\n",
        "    # Convert the tokenized data into a readable format (list of tokens for each document)\n",
        "    tokenized_data = [' '.join(tokens) for tokens in vectorizer.inverse_transform(tokens)]\n",
        "    df['tokenized_text'] = tokenized_data  # Add the new tokenized data as a separate column\n",
        "    return df\n",
        "\n",
        "# Call the function to tokenize the cleaned text and add it as a new column\n",
        "main_df = tokenize_and_add(main_df, 'cleaned_text')\n",
        "\n",
        "# Display the resulting dataframe\n",
        "print(main_df)"
      ],
      "metadata": {
        "colab": {
          "base_uri": "https://localhost:8080/"
        },
        "id": "f7lR_vntfIW9",
        "outputId": "a6e0e027-8d4c-41ba-c183-d2c3245f0269"
      },
      "execution_count": null,
      "outputs": [
        {
          "output_type": "stream",
          "name": "stdout",
          "text": [
            "      helpfulVotes         id lang  locationId  \\\n",
            "0                0  976855792   en      447407   \n",
            "1                0  976848001   en      447407   \n",
            "2                0  976658737   en      447407   \n",
            "3                0  976658654   en      447407   \n",
            "4                0  974741618   en      447407   \n",
            "...            ...        ...  ...         ...   \n",
            "6373             0  966886955   en    25147883   \n",
            "6374             0  952400230   en    25147883   \n",
            "6375             0  942583861   en    25147883   \n",
            "6376             0  940971814   en    25147883   \n",
            "6377             0  939895972   en    25147883   \n",
            "\n",
            "                                          ownerResponse  \\\n",
            "0                                                   NaN   \n",
            "1     {'id': '978350655', 'text': \"Dear Natashaw,\\n\\...   \n",
            "2     {'id': '978350091', 'text': 'Dear Jeewa Godage...   \n",
            "3     {'id': '978349493', 'text': \"Dear Guest.\\n\\nWa...   \n",
            "4     {'id': '974892951', 'text': \"Dear Guest,\\n\\nWa...   \n",
            "...                                                 ...   \n",
            "6373                                                NaN   \n",
            "6374                                                NaN   \n",
            "6375                                                NaN   \n",
            "6376                                                NaN   \n",
            "6377                                                NaN   \n",
            "\n",
            "                                                 photos  \\\n",
            "0                                                    []   \n",
            "1                                                    []   \n",
            "2     [{'id': '770115169', 'image': 'https://media-c...   \n",
            "3     [{'id': '770115172', 'image': 'https://media-c...   \n",
            "4                                                    []   \n",
            "...                                                 ...   \n",
            "6373                                                 []   \n",
            "6374                                                 []   \n",
            "6375  [{'id': '732287966', 'image': 'https://media-c...   \n",
            "6376                                                 []   \n",
            "6377                                                 []   \n",
            "\n",
            "                                              placeInfo publishedDate  \\\n",
            "0     {'id': '447407', 'name': 'Sigiriya Village Hot...    2024-10-27   \n",
            "1     {'id': '447407', 'name': 'Sigiriya Village Hot...    2024-10-27   \n",
            "2     {'id': '447407', 'name': 'Sigiriya Village Hot...    2024-10-25   \n",
            "3     {'id': '447407', 'name': 'Sigiriya Village Hot...    2024-10-25   \n",
            "4     {'id': '447407', 'name': 'Sigiriya Village Hot...    2024-10-20   \n",
            "...                                                 ...           ...   \n",
            "6373  {'id': '25147883', 'name': 'Serenity Boutique ...    2024-08-26   \n",
            "6374  {'id': '25147883', 'name': 'Serenity Boutique ...    2024-05-26   \n",
            "6375  {'id': '25147883', 'name': 'Serenity Boutique ...    2024-03-16   \n",
            "6376  {'id': '25147883', 'name': 'Serenity Boutique ...    2024-03-05   \n",
            "6377  {'id': '25147883', 'name': 'Serenity Boutique ...    2024-02-26   \n",
            "\n",
            "     publishedPlatform  rating  ...  \\\n",
            "0               MOBILE       5  ...   \n",
            "1                OTHER       5  ...   \n",
            "2                OTHER       5  ...   \n",
            "3               MOBILE       4  ...   \n",
            "4                OTHER       5  ...   \n",
            "...                ...     ...  ...   \n",
            "6373             OTHER       5  ...   \n",
            "6374             OTHER       2  ...   \n",
            "6375            MOBILE       5  ...   \n",
            "6376             OTHER       1  ...   \n",
            "6377             OTHER       5  ...   \n",
            "\n",
            "                                                   text  \\\n",
            "0     We have been fortunate to meet the  head chef ...   \n",
            "1     Myself and my family had a great time at Sigir...   \n",
            "2     We had a really nice one night in sigiriya vil...   \n",
            "3     The rooms in this hotel are huge ,very comfy a...   \n",
            "4     Everything was beatiful,  the hotel was amazin...   \n",
            "...                                                 ...   \n",
            "6373  Greeny environment with a well maintained room...   \n",
            "6374  The place is nice, rooms are spacious. But the...   \n",
            "6375  We found thus hotel and really enjoyed our sta...   \n",
            "6376  No hot water in the bathroom, no other electri...   \n",
            "6377  Amazing small hotel and would recommend to eve...   \n",
            "\n",
            "                                                  title travelDate tripType  \\\n",
            "0           Excellent chef and service. Very attentive.    2024-10   FAMILY   \n",
            "1                            Great hotel and restaurant    2024-10   FAMILY   \n",
            "2     Had a fantastic weekend in the sigiriya villag...    2024-10  FRIENDS   \n",
            "3                                        Lots going on     2024-10  COUPLES   \n",
            "4                                            Good hotel    2024-10  COUPLES   \n",
            "...                                                 ...        ...      ...   \n",
            "6373                                        appreciated     Jun-24  COUPLES   \n",
            "6374          Nice place but horrible food and service.     May-24  FRIENDS   \n",
            "6375                                       A hidden gem     Mar-24  FRIENDS   \n",
            "6376                                   Not Well Managed     Mar-24   FAMILY   \n",
            "6377  Unforgetable stay at Serenity Boutique Hotel -...     Dec-23   FAMILY   \n",
            "\n",
            "                                                    url  \\\n",
            "0     https://www.tripadvisor.com/ShowUserReviews-g3...   \n",
            "1     https://www.tripadvisor.com/ShowUserReviews-g3...   \n",
            "2     https://www.tripadvisor.com/ShowUserReviews-g3...   \n",
            "3     https://www.tripadvisor.com/ShowUserReviews-g3...   \n",
            "4     https://www.tripadvisor.com/ShowUserReviews-g3...   \n",
            "...                                                 ...   \n",
            "6373  https://www.tripadvisor.com/ShowUserReviews-g2...   \n",
            "6374  https://www.tripadvisor.com/ShowUserReviews-g2...   \n",
            "6375  https://www.tripadvisor.com/ShowUserReviews-g2...   \n",
            "6376  https://www.tripadvisor.com/ShowUserReviews-g2...   \n",
            "6377  https://www.tripadvisor.com/ShowUserReviews-g2...   \n",
            "\n",
            "                                                   user  \\\n",
            "0     {'userId': '22C31251ACF7FD45781977BF2FD9F49E',...   \n",
            "1     {'userId': '500C57E358033358E19AB89A0A4ECD19',...   \n",
            "2     {'userId': '64AB7003B6A561B6DB860C9C9FF9BC29',...   \n",
            "3     {'userId': '23DF5EF1C6CB1BD10247293D0A824BD2',...   \n",
            "4     {'userId': '4E94A6397EE2636375FFBD6A6158AA01',...   \n",
            "...                                                 ...   \n",
            "6373  {'userId': '1815C77E3D8D3CA021A0131D913AF451',...   \n",
            "6374  {'userId': '2284A92547249F9C0E396A101D963E2E',...   \n",
            "6375  {'userId': 'C23A5E2277C50A208E32F263CB4CC431',...   \n",
            "6376  {'userId': '7F4A1FB3C0A3EE4EDDD3E4C5874EDFF0',...   \n",
            "6377  {'userId': 'A7D488EA8D683BB2435863710DA9E65F',...   \n",
            "\n",
            "                                           cleaned_text  \\\n",
            "0     fortunate meet head chef manjula perera person...   \n",
            "1     family great time sigiriya village highlight u...   \n",
            "2     really nice one night sigiriya village highly ...   \n",
            "3     room hotel huge comfy quiet restaurant bar are...   \n",
            "4     everything beatiful hotel amazing food also go...   \n",
            "...                                                 ...   \n",
            "6373  greeny environment well maintained room garden...   \n",
            "6374  place nice room spacious food service made bad...   \n",
            "6375  found thus hotel really enjoyed stay lovely ga...   \n",
            "6376  hot water bathroom electric accessory work pro...   \n",
            "6377  amazing small hotel would recommend everyone w...   \n",
            "\n",
            "                                         tokenized_text  \\\n",
            "0     fortunate meet head chef manjula perera person...   \n",
            "1     chef manjula perera hotel great sigiriya villa...   \n",
            "2     great sigiriya village food sigiriya village r...   \n",
            "3     hotel village sri lankan food sri lankan lanka...   \n",
            "4     hotel sigiriya food family good everything bea...   \n",
            "...                                                 ...   \n",
            "6373  excellent well family curry environment servic...   \n",
            "6374  hotel sri lankan food sri lankan family make n...   \n",
            "6375  hotel really nice relaxing lot stay room lovel...   \n",
            "6376  hotel service room telephone meal bed vegetari...   \n",
            "6377  hotel great excellent family make service quie...   \n",
            "\n",
            "                       hotel_name      city  \n",
            "0          Sigiriya Village Hotel  Sigiriya  \n",
            "1          Sigiriya Village Hotel  Sigiriya  \n",
            "2          Sigiriya Village Hotel  Sigiriya  \n",
            "3          Sigiriya Village Hotel  Sigiriya  \n",
            "4          Sigiriya Village Hotel  Sigiriya  \n",
            "...                           ...       ...  \n",
            "6373  Serenity Boutique Unawatuna     Galle  \n",
            "6374  Serenity Boutique Unawatuna     Galle  \n",
            "6375  Serenity Boutique Unawatuna     Galle  \n",
            "6376  Serenity Boutique Unawatuna     Galle  \n",
            "6377  Serenity Boutique Unawatuna     Galle  \n",
            "\n",
            "[6378 rows x 22 columns]\n"
          ]
        }
      ]
    },
    {
      "cell_type": "markdown",
      "source": [
        "EDA"
      ],
      "metadata": {
        "id": "Xi5VorIrlkFK"
      }
    },
    {
      "cell_type": "code",
      "source": [
        "avg_rating_per_hotel = main_df.groupby('locationId')['rating'].mean()\n",
        "avg_rating_per_hotel.plot(kind='bar', figsize=(12, 6), color='orange')\n",
        "plt.xlabel('Hotel')\n",
        "plt.ylabel('Average Rating')\n",
        "plt.title('Average Rating per Hotel')\n",
        "plt.show()\n"
      ],
      "metadata": {
        "colab": {
          "base_uri": "https://localhost:8080/",
          "height": 641
        },
        "id": "IN21OwjvfIUI",
        "outputId": "09f9016c-7aa7-4f16-cf73-bf9ebbbb2113"
      },
      "execution_count": null,
      "outputs": [
        {
          "output_type": "display_data",
          "data": {
            "text/plain": [
              "<Figure size 1200x600 with 1 Axes>"
            ],
            "image/png": "[encoded data removed]"
          },
          "metadata": {}
        }
      ]
    },
    {
      "cell_type": "code",
      "source": [
        "from collections import Counter\n",
        "\n",
        "word_counts = Counter(\" \".join(main_df['cleaned_text']).split())\n",
        "common_words = word_counts.most_common(20)\n",
        "words, counts = zip(*common_words)\n",
        "\n",
        "plt.bar(words, counts, color='teal')\n",
        "plt.xticks(rotation=45)\n",
        "plt.xlabel('Words')\n",
        "plt.ylabel('Frequency')\n",
        "plt.title('Top 20 Most Common Words')\n",
        "plt.show()\n"
      ],
      "metadata": {
        "colab": {
          "base_uri": "https://localhost:8080/",
          "height": 542
        },
        "id": "DtgiaYsTfIRy",
        "outputId": "9d4ab625-e486-4950-f9fa-290f064daed5"
      },
      "execution_count": null,
      "outputs": [
        {
          "output_type": "display_data",
          "data": {
            "text/plain": [
              "<Figure size 640x480 with 1 Axes>"
            ],
            "image/png": "[encoded data removed]"
          },
          "metadata": {}
        }
      ]
    },
    {
      "cell_type": "code",
      "source": [
        "main_df['rating'].plot(kind='hist', bins=5, edgecolor='black')\n",
        "plt.xlabel('Rating')\n",
        "plt.ylabel('Frequency')\n",
        "plt.title('Distribution of Ratings')\n",
        "plt.show()\n"
      ],
      "metadata": {
        "colab": {
          "base_uri": "https://localhost:8080/",
          "height": 492
        },
        "id": "8GV79r5LfIO6",
        "outputId": "5b5918d7-8a3a-4be9-c115-2d916ba1a283"
      },
      "execution_count": null,
      "outputs": [
        {
          "output_type": "display_data",
          "data": {
            "text/plain": [
              "<Figure size 640x480 with 1 Axes>"
            ],
            "image/png": "[encoded data removed]"
          },
          "metadata": {}
        }
      ]
    },
    {
      "cell_type": "code",
      "source": [
        "import matplotlib.pyplot as plt\n",
        "import seaborn as sns\n",
        "\n",
        "# Assuming main_df has columns 'rating' and 'city'\n",
        "# Calculate the average rating for each city\n",
        "city_rating_avg = main_df.groupby('city')['rating'].mean().reset_index()\n",
        "\n",
        "# Create the plot\n",
        "plt.figure(figsize=(10, 6))\n",
        "sns.barplot(x='city', y='rating', data=city_rating_avg)\n",
        "\n",
        "# Customize the plot\n",
        "plt.xlabel('City')\n",
        "plt.ylabel('Average Rating')\n",
        "plt.title('Average Rating by City')\n",
        "plt.xticks(rotation=45, ha='right')  # Rotate city names if necessary for readability\n",
        "plt.tight_layout()\n",
        "\n",
        "# Show the plot\n",
        "plt.show()\n"
      ],
      "metadata": {
        "colab": {
          "base_uri": "https://localhost:8080/",
          "height": 627
        },
        "id": "K-fgFTo8fIMj",
        "outputId": "fa8ae278-6ac8-4653-e105-17afbe884686"
      },
      "execution_count": null,
      "outputs": [
        {
          "output_type": "display_data",
          "data": {
            "text/plain": [
              "<Figure size 1000x600 with 1 Axes>"
            ],
            "image/png": "[encoded data removed]"
          },
          "metadata": {}
        }
      ]
    },
    {
      "cell_type": "code",
      "source": [
        "main_df.groupby('tripType').size().plot(kind='barh', color=sns.palettes.mpl_palette('Dark2'))\n",
        "plt.gca().spines[['top', 'right',]].set_visible(False)"
      ],
      "metadata": {
        "colab": {
          "base_uri": "https://localhost:8080/",
          "height": 450
        },
        "id": "jXMRodDRfIJw",
        "outputId": "372b8087-173c-41a0-efaa-82ab48071c22"
      },
      "execution_count": null,
      "outputs": [
        {
          "output_type": "display_data",
          "data": {
            "text/plain": [
              "<Figure size 640x480 with 1 Axes>"
            ],
            "image/png": "[encoded data removed]"
          },
          "metadata": {}
        }
      ]
    },
    {
      "cell_type": "code",
      "source": [
        "from matplotlib import pyplot as plt\n",
        "main_df.plot(kind='scatter', x='locationId', y='rating', s=32, alpha=.8)\n",
        "plt.gca().spines[['top', 'right',]].set_visible(False)"
      ],
      "metadata": {
        "colab": {
          "base_uri": "https://localhost:8080/",
          "height": 469
        },
        "id": "h5UnX0OWfIHo",
        "outputId": "c37198f0-a2e6-4753-e2f3-fbd7a2a497f8"
      },
      "execution_count": null,
      "outputs": [
        {
          "output_type": "display_data",
          "data": {
            "text/plain": [
              "<Figure size 640x480 with 1 Axes>"
            ],
            "image/png": "[encoded data removed]"
          },
          "metadata": {}
        }
      ]
    },
    {
      "cell_type": "markdown",
      "source": [
        "### **Task 2**: Sentiment Analysis"
      ],
      "metadata": {
        "id": "aCjruroOl62J"
      }
    },
    {
      "cell_type": "markdown",
      "source": [
        "Vader"
      ],
      "metadata": {
        "id": "SOaEsr7Fl-as"
      }
    },
    {
      "cell_type": "markdown",
      "source": [
        "* Vader, TextBlob and SentiWordNet are lexicon methods.\n",
        "\n",
        "* Vader and TextBlob uses the cleaned text to analyse and classify is the review is positive, negative or neutral.\n",
        "\n",
        "* SentiWordNet uses the tokenized data to classify is the review is positive, negative or neutral.\n",
        "\n",
        "\n"
      ],
      "metadata": {
        "id": "Uqr8ytbc0uE5"
      }
    },
    {
      "cell_type": "code",
      "source": [
        "pip install vaderSentiment"
      ],
      "metadata": {
        "colab": {
          "base_uri": "https://localhost:8080/"
        },
        "id": "Mhy2SY7IfIFJ",
        "outputId": "f452a1f9-1200-4656-eb2a-1dca2a047b49"
      },
      "execution_count": null,
      "outputs": [
        {
          "output_type": "stream",
          "name": "stdout",
          "text": [
            "Collecting vaderSentiment\n",
            "  Downloading vaderSentiment-3.3.2-py2.py3-none-any.whl.metadata (572 bytes)\n",
            "Requirement already satisfied: requests in /usr/local/lib/python3.10/dist-packages (from vaderSentiment) (2.32.3)\n",
            "Requirement already satisfied: charset-normalizer<4,>=2 in /usr/local/lib/python3.10/dist-packages (from requests->vaderSentiment) (3.4.0)\n",
            "Requirement already satisfied: idna<4,>=2.5 in /usr/local/lib/python3.10/dist-packages (from requests->vaderSentiment) (3.10)\n",
            "Requirement already satisfied: urllib3<3,>=1.21.1 in /usr/local/lib/python3.10/dist-packages (from requests->vaderSentiment) (2.2.3)\n",
            "Requirement already satisfied: certifi>=2017.4.17 in /usr/local/lib/python3.10/dist-packages (from requests->vaderSentiment) (2024.8.30)\n",
            "Downloading vaderSentiment-3.3.2-py2.py3-none-any.whl (125 kB)\n",
            "\u001b[?25l   \u001b[90m━━━━━━━━━━━━━━━━━━━━━━━━━━━━━━━━━━━━━━━━\u001b[0m \u001b[32m0.0/126.0 kB\u001b[0m \u001b[31m?\u001b[0m eta \u001b[36m-:--:--\u001b[0m\r\u001b[2K   \u001b[90m━━━━━━━━━━━━━━━━━━━━━━━━━━━━━━━━━━━━━━━━\u001b[0m \u001b[32m126.0/126.0 kB\u001b[0m \u001b[31m8.7 MB/s\u001b[0m eta \u001b[36m0:00:00\u001b[0m\n",
            "\u001b[?25hInstalling collected packages: vaderSentiment\n",
            "Successfully installed vaderSentiment-3.3.2\n"
          ]
        }
      ]
    },
    {
      "cell_type": "code",
      "source": [
        "from vaderSentiment.vaderSentiment import SentimentIntensityAnalyzer\n",
        "\n",
        "# Initialize VADER sentiment analyzer\n",
        "vader_analyzer = SentimentIntensityAnalyzer()\n",
        "\n",
        "# Function to get VADER sentiment\n",
        "def vader_sentiment(review):\n",
        "    score = vader_analyzer.polarity_scores(review)\n",
        "    if score['compound'] >= 0.05:\n",
        "        return 'positive'\n",
        "    elif score['compound'] <= -0.05:\n",
        "        return 'negative'\n",
        "    else:\n",
        "        return 'neutral'\n",
        "\n",
        "# Apply VADER sentiment\n",
        "main_df['vader_sentiment'] = main_df['cleaned_text'].apply(vader_sentiment)"
      ],
      "metadata": {
        "id": "WtKKcVCpfICw"
      },
      "execution_count": null,
      "outputs": []
    },
    {
      "cell_type": "markdown",
      "source": [
        "TextBlob"
      ],
      "metadata": {
        "id": "TeeCx8cBoBq8"
      }
    },
    {
      "cell_type": "code",
      "source": [
        "from textblob import TextBlob"
      ],
      "metadata": {
        "id": "sOgMKxLsfIAl"
      },
      "execution_count": null,
      "outputs": []
    },
    {
      "cell_type": "code",
      "source": [
        "def get_textblob_sentiment(review):\n",
        "    blob = TextBlob(review)\n",
        "    polarity = blob.sentiment.polarity\n",
        "    if polarity > 0:\n",
        "        return 'positive'\n",
        "    elif polarity < 0:\n",
        "        return 'negative'\n",
        "    else:\n",
        "        return 'neutral'\n",
        "\n",
        "main_df['textblob_sentiment'] = main_df['cleaned_text'].apply(get_textblob_sentiment)"
      ],
      "metadata": {
        "id": "_irRR7psfH-A"
      },
      "execution_count": null,
      "outputs": []
    },
    {
      "cell_type": "markdown",
      "source": [
        "SentiWordNet"
      ],
      "metadata": {
        "id": "Eqeg_l54wVJ6"
      }
    },
    {
      "cell_type": "code",
      "source": [
        "from nltk.corpus import sentiwordnet as swn\n",
        "from nltk.corpus import stopwords\n",
        "import nltk"
      ],
      "metadata": {
        "id": "r8OGiNZwfH7g"
      },
      "execution_count": null,
      "outputs": []
    },
    {
      "cell_type": "code",
      "source": [
        "# Download necessary NLTK data files if not already downloaded\n",
        "nltk.download('stopwords')\n",
        "nltk.download('sentiwordnet')\n",
        "\n",
        "# Function to get sentiment based on SentiWordNet (using pre-tokenized data)\n",
        "def get_sentiwordnet_sentiment_from_tokens(tokens):\n",
        "    # Filter out stopwords and non-alphabetic words (if needed)\n",
        "    stop_words = set(stopwords.words('english'))\n",
        "    tokens = [word.lower() for word in tokens if word.lower() not in stop_words and word.isalpha()]\n",
        "\n",
        "    sentiment_score = 0.0\n",
        "    for token in tokens:\n",
        "        # Get sentiment synsets for each token\n",
        "        synsets = list(swn.senti_synsets(token))  # Get all synsets for the token\n",
        "        if synsets:  # If synsets exist for the token\n",
        "            # Sum the sentiment scores (positive - negative) for the synset\n",
        "            sentiment_score += synsets[0].pos_score() - synsets[0].neg_score()\n",
        "\n",
        "    # Classify sentiment based on the sentiment score\n",
        "    if sentiment_score > 0:\n",
        "        return 'positive'\n",
        "    elif sentiment_score < 0:\n",
        "        return 'negative'\n",
        "    else:\n",
        "        return 'neutral'\n",
        "\n",
        "# Assuming 'tokenized_reviews' is your column containing pre-tokenized words or bigrams\n",
        "main_df['sentiwordnet_sentiment'] = main_df['tokenized_text'].apply(get_sentiwordnet_sentiment_from_tokens)"
      ],
      "metadata": {
        "colab": {
          "base_uri": "https://localhost:8080/"
        },
        "id": "ZhLI3WRXfH5I",
        "outputId": "ae574898-b9fe-4d75-cb6a-bef99d49a274"
      },
      "execution_count": null,
      "outputs": [
        {
          "output_type": "stream",
          "name": "stderr",
          "text": [
            "[nltk_data] Downloading package stopwords to /root/nltk_data...\n",
            "[nltk_data]   Package stopwords is already up-to-date!\n",
            "[nltk_data] Downloading package sentiwordnet to /root/nltk_data...\n",
            "[nltk_data]   Unzipping corpora/sentiwordnet.zip.\n"
          ]
        }
      ]
    },
    {
      "cell_type": "markdown",
      "source": [
        "Majority Voting"
      ],
      "metadata": {
        "id": "ilDIROxgxIWy"
      }
    },
    {
      "cell_type": "markdown",
      "source": [
        "* Sentiment Predictions: Each review will include sentiment predictions from three classifiers (VADER, TextBlob, and SentiWordNet).\n",
        "\n",
        "* Apply Majority Voting: For each review, tally the sentiment labels predicted by these classifiers and select the sentiment label with the most votes as the \"ground truth.\""
      ],
      "metadata": {
        "id": "Yp2Opqve1ttb"
      }
    },
    {
      "cell_type": "code",
      "source": [
        "from collections import Counter"
      ],
      "metadata": {
        "id": "BXwAYtMnfH2a"
      },
      "execution_count": null,
      "outputs": []
    },
    {
      "cell_type": "code",
      "source": [
        "def majority_vote(row):\n",
        "    # Collect the predictions from the 3 classifiers\n",
        "    sentiments = [row['vader_sentiment'], row['textblob_sentiment'], row['sentiwordnet_sentiment']]\n",
        "\n",
        "    # Use Counter to count the occurrences of each sentiment\n",
        "    sentiment_count = Counter(sentiments)\n",
        "\n",
        "    # Get the most common sentiment (majority vote)\n",
        "    majority_sentiment = sentiment_count.most_common(1)[0][0]\n",
        "\n",
        "    return majority_sentiment\n",
        "\n",
        "# Apply majority vote to each row and create a new column for ground truth\n",
        "main_df['ground_truth_sentiment'] = main_df.apply(majority_vote, axis=1)"
      ],
      "metadata": {
        "id": "mSYT6HUixK8b"
      },
      "execution_count": null,
      "outputs": []
    },
    {
      "cell_type": "code",
      "source": [
        "# Example to see the results\n",
        "print(main_df[['vader_sentiment', 'textblob_sentiment', 'sentiwordnet_sentiment', 'ground_truth_sentiment']].head())"
      ],
      "metadata": {
        "colab": {
          "base_uri": "https://localhost:8080/"
        },
        "id": "orsCoG51xK6C",
        "outputId": "5707f5be-ccb8-4bef-effe-b0dfc9b02fb6"
      },
      "execution_count": null,
      "outputs": [
        {
          "output_type": "stream",
          "name": "stdout",
          "text": [
            "  vader_sentiment textblob_sentiment sentiwordnet_sentiment  \\\n",
            "0        positive           positive               positive   \n",
            "1        positive           positive               positive   \n",
            "2        positive           positive               positive   \n",
            "3        positive           positive               positive   \n",
            "4        positive           positive               positive   \n",
            "\n",
            "  ground_truth_sentiment  \n",
            "0               positive  \n",
            "1               positive  \n",
            "2               positive  \n",
            "3               positive  \n",
            "4               positive  \n"
          ]
        }
      ]
    },
    {
      "cell_type": "code",
      "source": [
        "main_df[['cleaned_text', 'vader_sentiment', 'textblob_sentiment', 'sentiwordnet_sentiment', 'ground_truth_sentiment']].where(main_df['vader_sentiment'] == 'neutral').dropna()"
      ],
      "metadata": {
        "colab": {
          "base_uri": "https://localhost:8080/",
          "height": 713
        },
        "id": "3d64NPZMxK3f",
        "outputId": "dcbd4864-25c8-4594-a2ed-bd273a71fae9"
      },
      "execution_count": null,
      "outputs": [
        {
          "output_type": "execute_result",
          "data": {
            "text/plain": [
              "                                           cleaned_text vader_sentiment  \\\n",
              "223   night stay found frog lizard countless mosquit...         neutral   \n",
              "1162  incredible experience highlight sri lankan tri...         neutral   \n",
              "1202  disappointed stay looking forward staying yala...         neutral   \n",
              "2252  even though check time pm got room pm getting ...         neutral   \n",
              "2274  bald headed man beard think one manager hotel ...         neutral   \n",
              "3832  arrival checked room wasnt clean hair bathroom...         neutral   \n",
              "3906  hotel try fails many way keep rating based vie...         neutral   \n",
              "4129  load insect room change room even nd room inse...         neutral   \n",
              "4808  hotel room expected small cramped people hotel...         neutral   \n",
              "4922  nice hotel highway room nicely furnished adequ...         neutral   \n",
              "5030  staying place nightmare guest smoking room hal...         neutral   \n",
              "5134                                                            neutral   \n",
              "5265  standard food didnt feel fresh used evident st...         neutral   \n",
              "5331  pillow softy ever room hygiene name sanjith ha...         neutral   \n",
              "6038  went bar ordered drink drink came main ingredi...         neutral   \n",
              "\n",
              "     textblob_sentiment sentiwordnet_sentiment ground_truth_sentiment  \n",
              "223            negative               positive                neutral  \n",
              "1162           positive               positive               positive  \n",
              "1202           negative               positive                neutral  \n",
              "2252            neutral               positive                neutral  \n",
              "2274           positive               positive               positive  \n",
              "3832           positive               positive               positive  \n",
              "3906           negative               positive                neutral  \n",
              "4129            neutral               positive                neutral  \n",
              "4808           positive               positive               positive  \n",
              "4922           positive               positive               positive  \n",
              "5030           negative               positive                neutral  \n",
              "5134            neutral                neutral                neutral  \n",
              "5265           positive               positive               positive  \n",
              "5331           positive               positive               positive  \n",
              "6038           positive               positive               positive  "
            ],
            "text/html": [
              "\n",
              "  <div id=\"df-fef16c21-06c9-4498-9f60-68bcd4a5f0f9\" class=\"colab-df-container\">\n",
              "    <div>\n",
              "<style scoped>\n",
              "    .dataframe tbody tr th:only-of-type {\n",
              "        vertical-align: middle;\n",
              "    }\n",
              "\n",
              "    .dataframe tbody tr th {\n",
              "        vertical-align: top;\n",
              "    }\n",
              "\n",
              "    .dataframe thead th {\n",
              "        text-align: right;\n",
              "    }\n",
              "</style>\n",
              "<table border=\"1\" class=\"dataframe\">\n",
              "  <thead>\n",
              "    <tr style=\"text-align: right;\">\n",
              "      <th></th>\n",
              "      <th>cleaned_text</th>\n",
              "      <th>vader_sentiment</th>\n",
              "      <th>textblob_sentiment</th>\n",
              "      <th>sentiwordnet_sentiment</th>\n",
              "      <th>ground_truth_sentiment</th>\n",
              "    </tr>\n",
              "  </thead>\n",
              "  <tbody>\n",
              "    <tr>\n",
              "      <th>223</th>\n",
              "      <td>night stay found frog lizard countless mosquit...</td>\n",
              "      <td>neutral</td>\n",
              "      <td>negative</td>\n",
              "      <td>positive</td>\n",
              "      <td>neutral</td>\n",
              "    </tr>\n",
              "    <tr>\n",
              "      <th>1162</th>\n",
              "      <td>incredible experience highlight sri lankan tri...</td>\n",
              "      <td>neutral</td>\n",
              "      <td>positive</td>\n",
              "      <td>positive</td>\n",
              "      <td>positive</td>\n",
              "    </tr>\n",
              "    <tr>\n",
              "      <th>1202</th>\n",
              "      <td>disappointed stay looking forward staying yala...</td>\n",
              "      <td>neutral</td>\n",
              "      <td>negative</td>\n",
              "      <td>positive</td>\n",
              "      <td>neutral</td>\n",
              "    </tr>\n",
              "    <tr>\n",
              "      <th>2252</th>\n",
              "      <td>even though check time pm got room pm getting ...</td>\n",
              "      <td>neutral</td>\n",
              "      <td>neutral</td>\n",
              "      <td>positive</td>\n",
              "      <td>neutral</td>\n",
              "    </tr>\n",
              "    <tr>\n",
              "      <th>2274</th>\n",
              "      <td>bald headed man beard think one manager hotel ...</td>\n",
              "      <td>neutral</td>\n",
              "      <td>positive</td>\n",
              "      <td>positive</td>\n",
              "      <td>positive</td>\n",
              "    </tr>\n",
              "    <tr>\n",
              "      <th>3832</th>\n",
              "      <td>arrival checked room wasnt clean hair bathroom...</td>\n",
              "      <td>neutral</td>\n",
              "      <td>positive</td>\n",
              "      <td>positive</td>\n",
              "      <td>positive</td>\n",
              "    </tr>\n",
              "    <tr>\n",
              "      <th>3906</th>\n",
              "      <td>hotel try fails many way keep rating based vie...</td>\n",
              "      <td>neutral</td>\n",
              "      <td>negative</td>\n",
              "      <td>positive</td>\n",
              "      <td>neutral</td>\n",
              "    </tr>\n",
              "    <tr>\n",
              "      <th>4129</th>\n",
              "      <td>load insect room change room even nd room inse...</td>\n",
              "      <td>neutral</td>\n",
              "      <td>neutral</td>\n",
              "      <td>positive</td>\n",
              "      <td>neutral</td>\n",
              "    </tr>\n",
              "    <tr>\n",
              "      <th>4808</th>\n",
              "      <td>hotel room expected small cramped people hotel...</td>\n",
              "      <td>neutral</td>\n",
              "      <td>positive</td>\n",
              "      <td>positive</td>\n",
              "      <td>positive</td>\n",
              "    </tr>\n",
              "    <tr>\n",
              "      <th>4922</th>\n",
              "      <td>nice hotel highway room nicely furnished adequ...</td>\n",
              "      <td>neutral</td>\n",
              "      <td>positive</td>\n",
              "      <td>positive</td>\n",
              "      <td>positive</td>\n",
              "    </tr>\n",
              "    <tr>\n",
              "      <th>5030</th>\n",
              "      <td>staying place nightmare guest smoking room hal...</td>\n",
              "      <td>neutral</td>\n",
              "      <td>negative</td>\n",
              "      <td>positive</td>\n",
              "      <td>neutral</td>\n",
              "    </tr>\n",
              "    <tr>\n",
              "      <th>5134</th>\n",
              "      <td></td>\n",
              "      <td>neutral</td>\n",
              "      <td>neutral</td>\n",
              "      <td>neutral</td>\n",
              "      <td>neutral</td>\n",
              "    </tr>\n",
              "    <tr>\n",
              "      <th>5265</th>\n",
              "      <td>standard food didnt feel fresh used evident st...</td>\n",
              "      <td>neutral</td>\n",
              "      <td>positive</td>\n",
              "      <td>positive</td>\n",
              "      <td>positive</td>\n",
              "    </tr>\n",
              "    <tr>\n",
              "      <th>5331</th>\n",
              "      <td>pillow softy ever room hygiene name sanjith ha...</td>\n",
              "      <td>neutral</td>\n",
              "      <td>positive</td>\n",
              "      <td>positive</td>\n",
              "      <td>positive</td>\n",
              "    </tr>\n",
              "    <tr>\n",
              "      <th>6038</th>\n",
              "      <td>went bar ordered drink drink came main ingredi...</td>\n",
              "      <td>neutral</td>\n",
              "      <td>positive</td>\n",
              "      <td>positive</td>\n",
              "      <td>positive</td>\n",
              "    </tr>\n",
              "  </tbody>\n",
              "</table>\n",
              "</div>\n",
              "    <div class=\"colab-df-buttons\">\n",
              "\n",
              "  <div class=\"colab-df-container\">\n",
              "    <button class=\"colab-df-convert\" onclick=\"convertToInteractive('df-fef16c21-06c9-4498-9f60-68bcd4a5f0f9')\"\n",
              "            title=\"Convert this dataframe to an interactive table.\"\n",
              "            style=\"display:none;\">\n",
              "\n",
              "  <svg xmlns=\"http://www.w3.org/2000/svg\" height=\"24px\" viewBox=\"0 -960 960 960\">\n",
              "    <path d=\"M120-120v-720h720v720H120Zm60-500h600v-160H180v160Zm220 220h160v-160H400v160Zm0 220h160v-160H400v160ZM180-400h160v-160H180v160Zm440 0h160v-160H620v160ZM180-180h160v-160H180v160Zm440 0h160v-160H620v160Z\"/>\n",
              "  </svg>\n",
              "    </button>\n",
              "\n",
              "  <style>\n",
              "    .colab-df-container {\n",
              "      display:flex;\n",
              "      gap: 12px;\n",
              "    }\n",
              "\n",
              "    .colab-df-convert {\n",
              "      background-color: #E8F0FE;\n",
              "      border: none;\n",
              "      border-radius: 50%;\n",
              "      cursor: pointer;\n",
              "      display: none;\n",
              "      fill: #1967D2;\n",
              "      height: 32px;\n",
              "      padding: 0 0 0 0;\n",
              "      width: 32px;\n",
              "    }\n",
              "\n",
              "    .colab-df-convert:hover {\n",
              "      background-color: #E2EBFA;\n",
              "      box-shadow: 0px 1px 2px rgba(60, 64, 67, 0.3), 0px 1px 3px 1px rgba(60, 64, 67, 0.15);\n",
              "      fill: #174EA6;\n",
              "    }\n",
              "\n",
              "    .colab-df-buttons div {\n",
              "      margin-bottom: 4px;\n",
              "    }\n",
              "\n",
              "    [theme=dark] .colab-df-convert {\n",
              "      background-color: #3B4455;\n",
              "      fill: #D2E3FC;\n",
              "    }\n",
              "\n",
              "    [theme=dark] .colab-df-convert:hover {\n",
              "      background-color: #434B5C;\n",
              "      box-shadow: 0px 1px 3px 1px rgba(0, 0, 0, 0.15);\n",
              "      filter: drop-shadow(0px 1px 2px rgba(0, 0, 0, 0.3));\n",
              "      fill: #FFFFFF;\n",
              "    }\n",
              "  </style>\n",
              "\n",
              "    <script>\n",
              "      const buttonEl =\n",
              "        document.querySelector('#df-fef16c21-06c9-4498-9f60-68bcd4a5f0f9 button.colab-df-convert');\n",
              "      buttonEl.style.display =\n",
              "        google.colab.kernel.accessAllowed ? 'block' : 'none';\n",
              "\n",
              "      async function convertToInteractive(key) {\n",
              "        const element = document.querySelector('#df-fef16c21-06c9-4498-9f60-68bcd4a5f0f9');\n",
              "        const dataTable =\n",
              "          await google.colab.kernel.invokeFunction('convertToInteractive',\n",
              "                                                    [key], {});\n",
              "        if (!dataTable) return;\n",
              "\n",
              "        const docLinkHtml = 'Like what you see? Visit the ' +\n",
              "          '<a target=\"_blank\" href=https://colab.research.google.com/notebooks/data_table.ipynb>data table notebook</a>'\n",
              "          + ' to learn more about interactive tables.';\n",
              "        element.innerHTML = '';\n",
              "        dataTable['output_type'] = 'display_data';\n",
              "        await google.colab.output.renderOutput(dataTable, element);\n",
              "        const docLink = document.createElement('div');\n",
              "        docLink.innerHTML = docLinkHtml;\n",
              "        element.appendChild(docLink);\n",
              "      }\n",
              "    </script>\n",
              "  </div>\n",
              "\n",
              "\n",
              "<div id=\"df-31f164a8-c8b5-4865-beec-0681503aedc8\">\n",
              "  <button class=\"colab-df-quickchart\" onclick=\"quickchart('df-31f164a8-c8b5-4865-beec-0681503aedc8')\"\n",
              "            title=\"Suggest charts\"\n",
              "            style=\"display:none;\">\n",
              "\n",
              "<svg xmlns=\"http://www.w3.org/2000/svg\" height=\"24px\"viewBox=\"0 0 24 24\"\n",
              "     width=\"24px\">\n",
              "    <g>\n",
              "        <path d=\"M19 3H5c-1.1 0-2 .9-2 2v14c0 1.1.9 2 2 2h14c1.1 0 2-.9 2-2V5c0-1.1-.9-2-2-2zM9 17H7v-7h2v7zm4 0h-2V7h2v10zm4 0h-2v-4h2v4z\"/>\n",
              "    </g>\n",
              "</svg>\n",
              "  </button>\n",
              "\n",
              "<style>\n",
              "  .colab-df-quickchart {\n",
              "      --bg-color: #E8F0FE;\n",
              "      --fill-color: #1967D2;\n",
              "      --hover-bg-color: #E2EBFA;\n",
              "      --hover-fill-color: #174EA6;\n",
              "      --disabled-fill-color: #AAA;\n",
              "      --disabled-bg-color: #DDD;\n",
              "  }\n",
              "\n",
              "  [theme=dark] .colab-df-quickchart {\n",
              "      --bg-color: #3B4455;\n",
              "      --fill-color: #D2E3FC;\n",
              "      --hover-bg-color: #434B5C;\n",
              "      --hover-fill-color: #FFFFFF;\n",
              "      --disabled-bg-color: #3B4455;\n",
              "      --disabled-fill-color: #666;\n",
              "  }\n",
              "\n",
              "  .colab-df-quickchart {\n",
              "    background-color: var(--bg-color);\n",
              "    border: none;\n",
              "    border-radius: 50%;\n",
              "    cursor: pointer;\n",
              "    display: none;\n",
              "    fill: var(--fill-color);\n",
              "    height: 32px;\n",
              "    padding: 0;\n",
              "    width: 32px;\n",
              "  }\n",
              "\n",
              "  .colab-df-quickchart:hover {\n",
              "    background-color: var(--hover-bg-color);\n",
              "    box-shadow: 0 1px 2px rgba(60, 64, 67, 0.3), 0 1px 3px 1px rgba(60, 64, 67, 0.15);\n",
              "    fill: var(--button-hover-fill-color);\n",
              "  }\n",
              "\n",
              "  .colab-df-quickchart-complete:disabled,\n",
              "  .colab-df-quickchart-complete:disabled:hover {\n",
              "    background-color: var(--disabled-bg-color);\n",
              "    fill: var(--disabled-fill-color);\n",
              "    box-shadow: none;\n",
              "  }\n",
              "\n",
              "  .colab-df-spinner {\n",
              "    border: 2px solid var(--fill-color);\n",
              "    border-color: transparent;\n",
              "    border-bottom-color: var(--fill-color);\n",
              "    animation:\n",
              "      spin 1s steps(1) infinite;\n",
              "  }\n",
              "\n",
              "  @keyframes spin {\n",
              "    0% {\n",
              "      border-color: transparent;\n",
              "      border-bottom-color: var(--fill-color);\n",
              "      border-left-color: var(--fill-color);\n",
              "    }\n",
              "    20% {\n",
              "      border-color: transparent;\n",
              "      border-left-color: var(--fill-color);\n",
              "      border-top-color: var(--fill-color);\n",
              "    }\n",
              "    30% {\n",
              "      border-color: transparent;\n",
              "      border-left-color: var(--fill-color);\n",
              "      border-top-color: var(--fill-color);\n",
              "      border-right-color: var(--fill-color);\n",
              "    }\n",
              "    40% {\n",
              "      border-color: transparent;\n",
              "      border-right-color: var(--fill-color);\n",
              "      border-top-color: var(--fill-color);\n",
              "    }\n",
              "    60% {\n",
              "      border-color: transparent;\n",
              "      border-right-color: var(--fill-color);\n",
              "    }\n",
              "    80% {\n",
              "      border-color: transparent;\n",
              "      border-right-color: var(--fill-color);\n",
              "      border-bottom-color: var(--fill-color);\n",
              "    }\n",
              "    90% {\n",
              "      border-color: transparent;\n",
              "      border-bottom-color: var(--fill-color);\n",
              "    }\n",
              "  }\n",
              "</style>\n",
              "\n",
              "  <script>\n",
              "    async function quickchart(key) {\n",
              "      const quickchartButtonEl =\n",
              "        document.querySelector('#' + key + ' button');\n",
              "      quickchartButtonEl.disabled = true;  // To prevent multiple clicks.\n",
              "      quickchartButtonEl.classList.add('colab-df-spinner');\n",
              "      try {\n",
              "        const charts = await google.colab.kernel.invokeFunction(\n",
              "            'suggestCharts', [key], {});\n",
              "      } catch (error) {\n",
              "        console.error('Error during call to suggestCharts:', error);\n",
              "      }\n",
              "      quickchartButtonEl.classList.remove('colab-df-spinner');\n",
              "      quickchartButtonEl.classList.add('colab-df-quickchart-complete');\n",
              "    }\n",
              "    (() => {\n",
              "      let quickchartButtonEl =\n",
              "        document.querySelector('#df-31f164a8-c8b5-4865-beec-0681503aedc8 button');\n",
              "      quickchartButtonEl.style.display =\n",
              "        google.colab.kernel.accessAllowed ? 'block' : 'none';\n",
              "    })();\n",
              "  </script>\n",
              "</div>\n",
              "\n",
              "    </div>\n",
              "  </div>\n"
            ],
            "application/vnd.google.colaboratory.intrinsic+json": {
              "type": "dataframe",
              "summary": "{\n  \"name\": \"main_df[['cleaned_text', 'vader_sentiment', 'textblob_sentiment', 'sentiwordnet_sentiment', 'ground_truth_sentiment']]\",\n  \"rows\": 15,\n  \"fields\": [\n    {\n      \"column\": \"cleaned_text\",\n      \"properties\": {\n        \"dtype\": \"string\",\n        \"num_unique_values\": 15,\n        \"samples\": [\n          \"nice hotel highway room nicely furnished adequate bathroom issue finding dead cockroach shower train waking u early morning chose eat restaurant beer room back alongside railway suspect ocean facing room might traffic noise\",\n          \"\",\n          \"night stay found frog lizard countless mosquito insect roombathroom room old worn eg bed linen burn mark toilet roll holder falling wall etc need serious renovation bathroom dirty almost like outside thin grate used partition garden let sort wildlife viewed various room equally bad luxury hotel star hotel worker helpful attentive little hotel poor state perfect bug lover\"\n        ],\n        \"semantic_type\": \"\",\n        \"description\": \"\"\n      }\n    },\n    {\n      \"column\": \"vader_sentiment\",\n      \"properties\": {\n        \"dtype\": \"category\",\n        \"num_unique_values\": 1,\n        \"samples\": [\n          \"neutral\"\n        ],\n        \"semantic_type\": \"\",\n        \"description\": \"\"\n      }\n    },\n    {\n      \"column\": \"textblob_sentiment\",\n      \"properties\": {\n        \"dtype\": \"category\",\n        \"num_unique_values\": 3,\n        \"samples\": [\n          \"negative\"\n        ],\n        \"semantic_type\": \"\",\n        \"description\": \"\"\n      }\n    },\n    {\n      \"column\": \"sentiwordnet_sentiment\",\n      \"properties\": {\n        \"dtype\": \"category\",\n        \"num_unique_values\": 2,\n        \"samples\": [\n          \"neutral\"\n        ],\n        \"semantic_type\": \"\",\n        \"description\": \"\"\n      }\n    },\n    {\n      \"column\": \"ground_truth_sentiment\",\n      \"properties\": {\n        \"dtype\": \"category\",\n        \"num_unique_values\": 2,\n        \"samples\": [\n          \"positive\"\n        ],\n        \"semantic_type\": \"\",\n        \"description\": \"\"\n      }\n    }\n  ]\n}"
            }
          },
          "metadata": {},
          "execution_count": 50
        }
      ]
    },
    {
      "cell_type": "markdown",
      "source": [
        "### **Task 3**: Feature Extraction"
      ],
      "metadata": {
        "id": "qSwD8MnB4l5d"
      }
    },
    {
      "cell_type": "markdown",
      "source": [
        "**Sparse:**\n",
        "* Bag of Words (BoW)\n",
        "* TF-IDF"
      ],
      "metadata": {
        "id": "qJLatKti48Gx"
      }
    },
    {
      "cell_type": "code",
      "source": [
        "from sklearn.feature_extraction.text import CountVectorizer, TfidfVectorizer"
      ],
      "metadata": {
        "id": "btqukbFtxKyi"
      },
      "execution_count": null,
      "outputs": []
    },
    {
      "cell_type": "code",
      "source": [
        "# Sample dataset of cleaned reviews\n",
        "texts = main_df['cleaned_text'].tolist()"
      ],
      "metadata": {
        "id": "ygaNIcg2xKwI"
      },
      "execution_count": null,
      "outputs": []
    },
    {
      "cell_type": "code",
      "source": [
        "# Bag of Words (BoW)\n",
        "bow_vectorizer = CountVectorizer()\n",
        "bow_matrix = bow_vectorizer.fit_transform(texts)\n",
        "\n",
        "# TF-IDF\n",
        "tfidf_vectorizer = TfidfVectorizer()\n",
        "tfidf_matrix = tfidf_vectorizer.fit_transform(texts)"
      ],
      "metadata": {
        "id": "Z2Mr1kjwxKtl"
      },
      "execution_count": null,
      "outputs": []
    },
    {
      "cell_type": "code",
      "source": [
        "print(\"Shape of BoW Matrix:\", bow_matrix.shape)\n",
        "print(\"Shape of TF-IDF Matrix:\", tfidf_matrix.shape)"
      ],
      "metadata": {
        "colab": {
          "base_uri": "https://localhost:8080/"
        },
        "id": "2NKdlwDKxKrA",
        "outputId": "e1b8d614-37d4-403d-80d6-a0b7b2779015"
      },
      "execution_count": null,
      "outputs": [
        {
          "output_type": "stream",
          "name": "stdout",
          "text": [
            "Shape of BoW Matrix: (6378, 16556)\n",
            "Shape of TF-IDF Matrix: (6378, 16556)\n"
          ]
        }
      ]
    },
    {
      "cell_type": "markdown",
      "source": [
        "**Dense:**\n",
        "\n",
        "\n",
        "*   Word2Vec\n",
        "*   GloVe\n",
        "\n",
        "\n"
      ],
      "metadata": {
        "id": "SH7SvezIDq8Z"
      }
    },
    {
      "cell_type": "code",
      "source": [
        "from gensim.models import Word2Vec\n",
        "import numpy as np\n",
        "\n",
        "# Tokenize the reviews if needed\n",
        "tokens = main_df['tokenized_text'].tolist()\n",
        "\n",
        "# Word2Vec (Train your own Word2Vec model)\n",
        "word2vec_model = Word2Vec(sentences=tokens, vector_size=100, window=5, min_count=1, workers=4)\n",
        "word2vec_matrix = []\n",
        "\n",
        "# Get the dense vector representation by averaging word vectors in each document\n",
        "for tokenized_review in tokens:\n",
        "    # Check if the review has any words in the model's vocabulary\n",
        "    review_vectors = [word2vec_model.wv[word] for word in tokenized_review if word in word2vec_model.wv]\n",
        "\n",
        "    # If the review has words in the vocabulary, calculate the average vector\n",
        "    if review_vectors:\n",
        "        review_vector = np.mean(review_vectors, axis=0)\n",
        "    # If the review has no words in the vocabulary, use a zero vector of the correct size\n",
        "    else:\n",
        "        review_vector = np.zeros(word2vec_model.vector_size)\n",
        "\n",
        "    word2vec_matrix.append(review_vector)\n",
        "\n",
        "word2vec_matrix = np.array(word2vec_matrix)"
      ],
      "metadata": {
        "colab": {
          "base_uri": "https://localhost:8080/"
        },
        "id": "U7WpkvhaxKol",
        "outputId": "3fd8132d-b3c9-4180-87ad-58a78403bd1e"
      },
      "execution_count": null,
      "outputs": [
        {
          "output_type": "stream",
          "name": "stderr",
          "text": [
            "WARNING:gensim.models.word2vec:Each 'sentences' item should be a list of words (usually unicode strings). First item here is instead plain <class 'str'>.\n"
          ]
        }
      ]
    },
    {
      "cell_type": "code",
      "source": [
        "import numpy as np\n",
        "import pandas as pd\n",
        "\n",
        "# Load GloVe embeddings (ensure you have downloaded the glove.6B.100d.txt file or any other appropriate GloVe file)\n",
        "def load_glove_embeddings(glove_file):\n",
        "    embeddings_index = {}\n",
        "    with open(glove_file, 'r', encoding='utf-8') as f:\n",
        "        for line in f:\n",
        "            values = line.split()\n",
        "            word = values[0]\n",
        "            coefs = np.asarray(values[1:], dtype='float32')\n",
        "            embeddings_index[word] = coefs\n",
        "    return embeddings_index\n",
        "\n",
        "# Load the GloVe embeddings (100-dimensional vectors from 'glove.6B.100d.txt')\n",
        "glove_file = '/content/drive/MyDrive/glove.6B/glove.6B.100d.txt'\n",
        "embeddings_index = load_glove_embeddings(glove_file)\n",
        "\n",
        "# Example cleaned text (from your DataFrame)\n",
        "texts = main_df['tokenized_text'].tolist()  # Use your tokenized text here (after cleaning)\n",
        "\n",
        "# Initialize a matrix to store the GloVe vectors for each review\n",
        "glove_matrix = []\n",
        "\n",
        "# Define a function to get the GloVe embedding for a review by averaging the word vectors\n",
        "def get_glove_vector(review, embeddings_index, embedding_dim=100):\n",
        "    # Initialize an empty list to collect the word vectors\n",
        "    review_vector = []\n",
        "\n",
        "    # Iterate over the words in the review\n",
        "    for word in review.split():  # Assuming review is space-separated\n",
        "        # If the word is in the GloVe vocabulary, append its vector\n",
        "        if word in embeddings_index:\n",
        "            review_vector.append(embeddings_index[word])\n",
        "\n",
        "    # If the review has no words present in GloVe vocabulary, return a zero vector\n",
        "    if len(review_vector) == 0:\n",
        "        return np.zeros(embedding_dim)\n",
        "\n",
        "    # Average the word vectors for the review\n",
        "    return np.mean(review_vector, axis=0)\n",
        "\n",
        "# Convert all reviews to GloVe embeddings\n",
        "for review in texts:\n",
        "    glove_matrix.append(get_glove_vector(review, embeddings_index))\n",
        "\n",
        "# Convert the list of vectors to a numpy array\n",
        "glove_matrix = np.array(glove_matrix)\n",
        "\n",
        "# The shape of the glove_matrix will be (n_samples, embedding_dim)\n",
        "\n"
      ],
      "metadata": {
        "id": "rc8BASIR-rZq"
      },
      "execution_count": null,
      "outputs": []
    },
    {
      "cell_type": "code",
      "source": [
        "# !pip install fasttext"
      ],
      "metadata": {
        "colab": {
          "base_uri": "https://localhost:8080/"
        },
        "id": "4MnOHrCkCFQ2",
        "outputId": "daa3e40b-568b-4eb1-ac12-8fd997a598fd"
      },
      "execution_count": null,
      "outputs": [
        {
          "output_type": "stream",
          "name": "stdout",
          "text": [
            "Collecting fasttext\n",
            "  Downloading fasttext-0.9.3.tar.gz (73 kB)\n",
            "\u001b[?25l     \u001b[90m━━━━━━━━━━━━━━━━━━━━━━━━━━━━━━━━━━━━━━━━\u001b[0m \u001b[32m0.0/73.4 kB\u001b[0m \u001b[31m?\u001b[0m eta \u001b[36m-:--:--\u001b[0m\r\u001b[2K     \u001b[90m━━━━━━━━━━━━━━━━━━━━━━━━━━━━━━━━━━━━━━━━\u001b[0m \u001b[32m73.4/73.4 kB\u001b[0m \u001b[31m5.8 MB/s\u001b[0m eta \u001b[36m0:00:00\u001b[0m\n",
            "\u001b[?25h  Installing build dependencies ... \u001b[?25l\u001b[?25hdone\n",
            "  Getting requirements to build wheel ... \u001b[?25l\u001b[?25hdone\n",
            "  Preparing metadata (pyproject.toml) ... \u001b[?25l\u001b[?25hdone\n",
            "Collecting pybind11>=2.2 (from fasttext)\n",
            "  Using cached pybind11-2.13.6-py3-none-any.whl.metadata (9.5 kB)\n",
            "Requirement already satisfied: setuptools>=0.7.0 in /usr/local/lib/python3.10/dist-packages (from fasttext) (75.1.0)\n",
            "Requirement already satisfied: numpy in /usr/local/lib/python3.10/dist-packages (from fasttext) (1.26.4)\n",
            "Using cached pybind11-2.13.6-py3-none-any.whl (243 kB)\n",
            "Building wheels for collected packages: fasttext\n",
            "  Building wheel for fasttext (pyproject.toml) ... \u001b[?25l\u001b[?25hdone\n",
            "  Created wheel for fasttext: filename=fasttext-0.9.3-cp310-cp310-linux_x86_64.whl size=4296187 sha256=24d21fe9d6588961f4e237ebe64e03db038b0b882e53260fd0a0ccc1e3e94038\n",
            "  Stored in directory: /root/.cache/pip/wheels/0d/a2/00/81db54d3e6a8199b829d58e02cec2ddb20ce3e59fad8d3c92a\n",
            "Successfully built fasttext\n",
            "Installing collected packages: pybind11, fasttext\n",
            "Successfully installed fasttext-0.9.3 pybind11-2.13.6\n"
          ]
        }
      ]
    },
    {
      "cell_type": "code",
      "source": [
        "# import fasttext\n",
        "\n",
        "# # Load the pre-trained FastText model (300-dimensional vectors)\n",
        "# model = fasttext.load_model('cc.en.300.bin')  # Path to the pre-trained FastText model\n",
        "\n",
        "\n",
        "# # Here's how to generate the FastText vectors for each tokenized review\n",
        "\n",
        "# def get_review_vector(tokenized_review):\n",
        "#     # Get the word vector for each token in the review\n",
        "#     word_vectors = [model.get_word_vector(word) for word in tokenized_review]\n",
        "\n",
        "#     # If the review has no words, return a zero vector (optional handling for empty reviews)\n",
        "#     if not word_vectors:\n",
        "#         return np.zeros(model.get_dimension())  # 300-dimensional vector of zeros\n",
        "\n",
        "#     # Average the word vectors to get a single vector for the entire review\n",
        "#     review_vector = np.mean(word_vectors, axis=0)\n",
        "#     return review_vector\n",
        "\n",
        "# # Apply the function to the tokenized reviews column\n",
        "# df['fasttext_vectors'] = main_df['tokenized_text'].apply(get_review_vector)\n",
        "\n",
        "# # Convert the list of vectors to a numpy array (or list) if needed\n",
        "# fasttext_matrix = np.array(df['fasttext_vectors'].tolist())"
      ],
      "metadata": {
        "colab": {
          "base_uri": "https://localhost:8080/",
          "height": 376
        },
        "id": "CofDxOrxAwMM",
        "outputId": "a38743fd-1411-4c3b-f5d9-d09c6e2dfb0c"
      },
      "execution_count": null,
      "outputs": [
        {
          "output_type": "error",
          "ename": "ValueError",
          "evalue": "cc.en.300.bin cannot be opened for loading!",
          "traceback": [
            "\u001b[0;31m---------------------------------------------------------------------------\u001b[0m",
            "\u001b[0;31mValueError\u001b[0m                                Traceback (most recent call last)",
            "\u001b[0;32m<ipython-input-62-82a495f5f077>\u001b[0m in \u001b[0;36m<cell line: 4>\u001b[0;34m()\u001b[0m\n\u001b[1;32m      2\u001b[0m \u001b[0;34m\u001b[0m\u001b[0m\n\u001b[1;32m      3\u001b[0m \u001b[0;31m# Load the pre-trained FastText model (300-dimensional vectors)\u001b[0m\u001b[0;34m\u001b[0m\u001b[0;34m\u001b[0m\u001b[0m\n\u001b[0;32m----> 4\u001b[0;31m \u001b[0mmodel\u001b[0m \u001b[0;34m=\u001b[0m \u001b[0mfasttext\u001b[0m\u001b[0;34m.\u001b[0m\u001b[0mload_model\u001b[0m\u001b[0;34m(\u001b[0m\u001b[0;34m'cc.en.300.bin'\u001b[0m\u001b[0;34m)\u001b[0m  \u001b[0;31m# Path to the pre-trained FastText model\u001b[0m\u001b[0;34m\u001b[0m\u001b[0;34m\u001b[0m\u001b[0m\n\u001b[0m\u001b[1;32m      5\u001b[0m \u001b[0;34m\u001b[0m\u001b[0m\n\u001b[1;32m      6\u001b[0m \u001b[0;34m\u001b[0m\u001b[0m\n",
            "\u001b[0;32m/usr/local/lib/python3.10/dist-packages/fasttext/FastText.py\u001b[0m in \u001b[0;36mload_model\u001b[0;34m(path)\u001b[0m\n\u001b[1;32m    443\u001b[0m \u001b[0;32mdef\u001b[0m \u001b[0mload_model\u001b[0m\u001b[0;34m(\u001b[0m\u001b[0mpath\u001b[0m\u001b[0;34m)\u001b[0m\u001b[0;34m:\u001b[0m\u001b[0;34m\u001b[0m\u001b[0;34m\u001b[0m\u001b[0m\n\u001b[1;32m    444\u001b[0m     \u001b[0;34m\"\"\"Load a model given a filepath and return a model object.\"\"\"\u001b[0m\u001b[0;34m\u001b[0m\u001b[0;34m\u001b[0m\u001b[0m\n\u001b[0;32m--> 445\u001b[0;31m     \u001b[0;32mreturn\u001b[0m \u001b[0m_FastText\u001b[0m\u001b[0;34m(\u001b[0m\u001b[0mmodel_path\u001b[0m\u001b[0;34m=\u001b[0m\u001b[0mpath\u001b[0m\u001b[0;34m)\u001b[0m\u001b[0;34m\u001b[0m\u001b[0;34m\u001b[0m\u001b[0m\n\u001b[0m\u001b[1;32m    446\u001b[0m \u001b[0;34m\u001b[0m\u001b[0m\n\u001b[1;32m    447\u001b[0m \u001b[0;34m\u001b[0m\u001b[0m\n",
            "\u001b[0;32m/usr/local/lib/python3.10/dist-packages/fasttext/FastText.py\u001b[0m in \u001b[0;36m__init__\u001b[0;34m(self, model_path, args)\u001b[0m\n\u001b[1;32m     91\u001b[0m         \u001b[0mself\u001b[0m\u001b[0;34m.\u001b[0m\u001b[0mf\u001b[0m \u001b[0;34m=\u001b[0m \u001b[0mfasttext\u001b[0m\u001b[0;34m.\u001b[0m\u001b[0mfasttext\u001b[0m\u001b[0;34m(\u001b[0m\u001b[0;34m)\u001b[0m\u001b[0;34m\u001b[0m\u001b[0;34m\u001b[0m\u001b[0m\n\u001b[1;32m     92\u001b[0m         \u001b[0;32mif\u001b[0m \u001b[0mmodel_path\u001b[0m \u001b[0;32mis\u001b[0m \u001b[0;32mnot\u001b[0m \u001b[0;32mNone\u001b[0m\u001b[0;34m:\u001b[0m\u001b[0;34m\u001b[0m\u001b[0;34m\u001b[0m\u001b[0m\n\u001b[0;32m---> 93\u001b[0;31m             \u001b[0mself\u001b[0m\u001b[0;34m.\u001b[0m\u001b[0mf\u001b[0m\u001b[0;34m.\u001b[0m\u001b[0mloadModel\u001b[0m\u001b[0;34m(\u001b[0m\u001b[0mmodel_path\u001b[0m\u001b[0;34m)\u001b[0m\u001b[0;34m\u001b[0m\u001b[0;34m\u001b[0m\u001b[0m\n\u001b[0m\u001b[1;32m     94\u001b[0m         \u001b[0mself\u001b[0m\u001b[0;34m.\u001b[0m\u001b[0m_words\u001b[0m \u001b[0;34m=\u001b[0m \u001b[0;32mNone\u001b[0m\u001b[0;34m\u001b[0m\u001b[0;34m\u001b[0m\u001b[0m\n\u001b[1;32m     95\u001b[0m         \u001b[0mself\u001b[0m\u001b[0;34m.\u001b[0m\u001b[0m_labels\u001b[0m \u001b[0;34m=\u001b[0m \u001b[0;32mNone\u001b[0m\u001b[0;34m\u001b[0m\u001b[0;34m\u001b[0m\u001b[0m\n",
            "\u001b[0;31mValueError\u001b[0m: cc.en.300.bin cannot be opened for loading!"
          ]
        }
      ]
    },
    {
      "cell_type": "code",
      "source": [
        "# Check shape\n",
        "print(\"Shape of Word2Vec Matrix:\", word2vec_matrix.shape)\n",
        "print(\"Shape of GloVe matrix:\", glove_matrix.shape)"
      ],
      "metadata": {
        "colab": {
          "base_uri": "https://localhost:8080/"
        },
        "id": "poKLy_H07WFh",
        "outputId": "84cec472-c3f2-4a75-ff0f-d6c6fc26fee3"
      },
      "execution_count": null,
      "outputs": [
        {
          "output_type": "stream",
          "name": "stdout",
          "text": [
            "Shape of Word2Vec Matrix: (6378, 100)\n",
            "Shape of GloVe matrix: (6378, 100)\n"
          ]
        }
      ]
    },
    {
      "cell_type": "code",
      "source": [],
      "metadata": {
        "id": "NLDPREq4FS78"
      },
      "execution_count": null,
      "outputs": []
    }
  ]
}