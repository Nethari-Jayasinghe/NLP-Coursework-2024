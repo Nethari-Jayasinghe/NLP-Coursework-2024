{
  "nbformat": 4,
  "nbformat_minor": 0,
  "metadata": {
    "colab": {
      "provenance": []
    },
    "kernelspec": {
      "name": "python3",
      "display_name": "Python 3"
    },
    "language_info": {
      "name": "python"
    }
  },
  "cells": [
    {
      "cell_type": "code",
      "execution_count": 1,
      "metadata": {
        "colab": {
          "base_uri": "https://localhost:8080/"
        },
        "id": "VaN5wX5HVfqm",
        "outputId": "aa97c48f-81f3-4373-f682-f0d017c11b5a"
      },
      "outputs": [
        {
          "output_type": "stream",
          "name": "stdout",
          "text": [
            "Collecting apify-client\n",
            "  Downloading apify_client-1.8.1-py3-none-any.whl.metadata (4.3 kB)\n",
            "Collecting apify-shared>=1.1.2 (from apify-client)\n",
            "  Downloading apify_shared-1.1.2-py3-none-any.whl.metadata (2.5 kB)\n",
            "Requirement already satisfied: httpx>=0.25.0 in /usr/local/lib/python3.10/dist-packages (from apify-client) (0.27.2)\n",
            "Requirement already satisfied: more_itertools>=10.0.0 in /usr/local/lib/python3.10/dist-packages (from apify-client) (10.5.0)\n",
            "Requirement already satisfied: anyio in /usr/local/lib/python3.10/dist-packages (from httpx>=0.25.0->apify-client) (3.7.1)\n",
            "Requirement already satisfied: certifi in /usr/local/lib/python3.10/dist-packages (from httpx>=0.25.0->apify-client) (2024.8.30)\n",
            "Requirement already satisfied: httpcore==1.* in /usr/local/lib/python3.10/dist-packages (from httpx>=0.25.0->apify-client) (1.0.6)\n",
            "Requirement already satisfied: idna in /usr/local/lib/python3.10/dist-packages (from httpx>=0.25.0->apify-client) (3.10)\n",
            "Requirement already satisfied: sniffio in /usr/local/lib/python3.10/dist-packages (from httpx>=0.25.0->apify-client) (1.3.1)\n",
            "Requirement already satisfied: h11<0.15,>=0.13 in /usr/local/lib/python3.10/dist-packages (from httpcore==1.*->httpx>=0.25.0->apify-client) (0.14.0)\n",
            "Requirement already satisfied: exceptiongroup in /usr/local/lib/python3.10/dist-packages (from anyio->httpx>=0.25.0->apify-client) (1.2.2)\n",
            "Downloading apify_client-1.8.1-py3-none-any.whl (73 kB)\n",
            "\u001b[2K   \u001b[90m━━━━━━━━━━━━━━━━━━━━━━━━━━━━━━━━━━━━━━━━\u001b[0m \u001b[32m73.5/73.5 kB\u001b[0m \u001b[31m2.5 MB/s\u001b[0m eta \u001b[36m0:00:00\u001b[0m\n",
            "\u001b[?25hDownloading apify_shared-1.1.2-py3-none-any.whl (12 kB)\n",
            "Installing collected packages: apify-shared, apify-client\n",
            "Successfully installed apify-client-1.8.1 apify-shared-1.1.2\n"
          ]
        }
      ],
      "source": [
        "!pip install apify-client"
      ]
    },
    {
      "cell_type": "code",
      "source": [
        "import csv\n",
        "from apify_client import ApifyClient\n",
        "from datetime import datetime"
      ],
      "metadata": {
        "id": "9jDrer2sViA3"
      },
      "execution_count": 2,
      "outputs": []
    },
    {
      "cell_type": "code",
      "source": [
        "# Initialize the ApifyClient with your Apify API token\n",
        "client = ApifyClient(\"apify_api_sF9ZLgj5raS1vndt4xDvq3bZFrajIA2M2pBr\")"
      ],
      "metadata": {
        "id": "-kEAgOQBVjLK"
      },
      "execution_count": 3,
      "outputs": []
    },
    {
      "cell_type": "markdown",
      "source": [
        "# First Run"
      ],
      "metadata": {
        "id": "0qNpq8uaYTSA"
      }
    },
    {
      "cell_type": "code",
      "source": [
        "# List of TripAdvisor URLs for Sri Lankan hotels\n",
        "hotel_urls = [\n",
        "   \"https://www.tripadvisor.com/Hotel_Review-g304138-d25367549-Reviews-Grand_Serendib_Hotel-Kandy_Kandy_District_Central_Province.html\",\n",
        "   \"https://www.tripadvisor.com/Hotel_Review-g304138-d797403-Reviews-Cinnamon_Citadel_Kandy-Kandy_Kandy_District_Central_Province.html\",\n",
        "   \"https://www.tripadvisor.com/Hotel_Review-g304138-d5566703-Reviews-Earl_s_Regent_Hotel-Kandy_Kandy_District_Central_Province.html\",\n",
        "   \"https://www.tripadvisor.com/Hotel_Review-g12220047-d480276-Reviews-Amaya_Hills_Kandy-Heerassagala_Kandy_Kandy_District_Central_Province.html\",\n",
        "   \"https://www.tripadvisor.com/Hotel_Review-g304138-d316941-Reviews-Mahaweli_Reach_Hotel-Kandy_Kandy_District_Central_Province.html\",\n",
        "   \"https://www.tripadvisor.com/Hotel_Review-g304132-d1955662-Reviews-Heritage_Hotel_Anuradhapura-Anuradhapura_North_Central_Province.html\",\n",
        "   \"https://www.tripadvisor.com/Hotel_Review-g304132-d3177673-Reviews-Hotel_Alakamanda-Anuradhapura_North_Central_Province.html\",\n",
        "   \"https://www.tripadvisor.com/Hotel_Review-g304132-d4476135-Reviews-Rajarata_Hotel_Anuradapura-Anuradhapura_North_Central_Province.html\",\n",
        "   \"https://www.tripadvisor.com/Hotel_Review-g304132-d18816510-Reviews-The_Lake_Forest_Hotel-Anuradhapura_North_Central_Province.html\",\n",
        "   \"https://www.tripadvisor.com/Hotel_Review-g608525-d12949765-Reviews-Jetwing_Surf-Pottuvil_Arugam_Bay_Eastern_Province.html\",\n",
        "   \"https://www.tripadvisor.com/Hotel_Review-g608525-d20113947-Reviews-Whisky_Point_Resort-Pottuvil_Arugam_Bay_Eastern_Province.html\",\n",
        "   \"https://www.tripadvisor.com/Hotel_Review-g3348959-d9587644-Reviews-The_Blue_Wave_Hotel-Arugam_Bay_Eastern_Province.html\",\n",
        "   \"https://www.tripadvisor.com/Hotel_Review-g3348959-d8439700-Reviews-The_Spice_Trail-Arugam_Bay_Eastern_Province.html\",\n",
        "   \"https://www.tripadvisor.com/Hotel_Review-g608525-d4799724-Reviews-Kottukal_Beach_House_By_Jetwing-Pottuvil_Arugam_Bay_Eastern_Province.html\",\n",
        "   \"https://www.tripadvisor.com/Hotel_Review-g304133-d315685-Reviews-Heritance_Kandalama-Dambulla_Central_Province.html\",\n",
        "   \"https://www.tripadvisor.com/Hotel_Review-g304133-d10626289-Reviews-Jetwing_Lake-Dambulla_Central_Province.html\",\n",
        "   \"https://www.tripadvisor.com/Hotel_Review-g304133-d3308737-Reviews-Occidental_Paradise_Dambulla-Dambulla_Central_Province.html\"\n",
        "]"
      ],
      "metadata": {
        "id": "bP1BVCxUV5L8"
      },
      "execution_count": 5,
      "outputs": []
    },
    {
      "cell_type": "code",
      "source": [
        "# Prepare to collect all reviews in a list\n",
        "all_reviews = []\n",
        "target_review_count = 2000\n",
        "\n",
        "# Define the date range\n",
        "start_date = datetime(2024, 1, 1)\n",
        "end_date = datetime(2024, 11, 2)\n",
        "\n",
        "# Track all unique fields across reviews\n",
        "all_fieldnames = set()"
      ],
      "metadata": {
        "id": "4cQ-fHBMWGCB"
      },
      "execution_count": 6,
      "outputs": []
    },
    {
      "cell_type": "code",
      "source": [
        "for url in hotel_urls:\n",
        "    # Prepare input for each hotel with English-only reviews\n",
        "    run_input = {\n",
        "        \"startUrls\": [{\"url\": url}],\n",
        "        \"maxItemsPerQuery\": 50,  # Adjust if you need more reviews per query\n",
        "        \"reviewRatings\": [\"ALL_REVIEW_RATINGS\"],\n",
        "        \"reviewsLanguages\": [\"en\"],  # Only fetch English reviews\n",
        "    }\n",
        "\n",
        "    # Run the Actor and wait for it to finish\n",
        "    run = client.actor(\"maxcopell/tripadvisor-reviews\").call(run_input=run_input)\n",
        "\n",
        "    # Fetch reviews from the dataset\n",
        "    for item in client.dataset(run[\"defaultDatasetId\"]).iterate_items():\n",
        "        # Collect all unique field names from each item\n",
        "        all_fieldnames.update(item.keys())\n",
        "\n",
        "        # Parse the review date\n",
        "        review_date = datetime.strptime(item[\"publishedDate\"], \"%Y-%m-%d\")\n",
        "\n",
        "        # Filter reviews by date range\n",
        "        if start_date <= review_date <= end_date:\n",
        "            all_reviews.append(item)\n",
        "\n",
        "        # Stop if we've reached the target review count\n",
        "        if len(all_reviews) >= target_review_count:\n",
        "            break\n",
        "\n",
        "    # Check if we've collected enough reviews\n",
        "    if len(all_reviews) >= target_review_count:\n",
        "        break"
      ],
      "metadata": {
        "id": "BnurEOkuW1_G"
      },
      "execution_count": 7,
      "outputs": []
    },
    {
      "cell_type": "code",
      "source": [
        "# Convert the set of all field names to a sorted list for CSV\n",
        "all_fieldnames = sorted(all_fieldnames)\n",
        "\n",
        "# Define the CSV file path\n",
        "csv_file_path = \"sri_lankan_Colombo_hotel_reviews.csv\"\n",
        "\n",
        "# Write the filtered reviews to the CSV file with all dynamic fields\n",
        "with open(csv_file_path, mode=\"w\", newline=\"\", encoding=\"utf-8\") as csv_file:\n",
        "    writer = csv.DictWriter(csv_file, fieldnames=all_fieldnames)\n",
        "    writer.writeheader()  # Write header with all fields\n",
        "\n",
        "    for review in all_reviews:\n",
        "        # Write each review row, only populating fields that exist in the review\n",
        "        writer.writerow({field: review.get(field, \"\") for field in all_fieldnames})\n",
        "\n",
        "print(f\"Collected {len(all_reviews)} English reviews in the specified date range.\")\n",
        "print(f\"Data saved to {csv_file_path}\")"
      ],
      "metadata": {
        "colab": {
          "base_uri": "https://localhost:8080/"
        },
        "id": "OyANWXy4W5DN",
        "outputId": "049c1638-58de-45d1-e50e-57b64d740b40"
      },
      "execution_count": 8,
      "outputs": [
        {
          "output_type": "stream",
          "name": "stdout",
          "text": [
            "Collected 609 English reviews in the specified date range.\n",
            "Data saved to sri_lankan_Colombo_hotel_reviews.csv\n"
          ]
        }
      ]
    },
    {
      "cell_type": "markdown",
      "source": [
        "# Second Run"
      ],
      "metadata": {
        "id": "svctYOUeZjox"
      }
    },
    {
      "cell_type": "code",
      "source": [
        "# Initialize the ApifyClient with your Apify API token\n",
        "client = ApifyClient(\"apify_api_y1Of8eOgYoZEQxTodvBOgiWbuhx6vT1DN4F3\")"
      ],
      "metadata": {
        "id": "WfCLioEydOtb"
      },
      "execution_count": 12,
      "outputs": []
    },
    {
      "cell_type": "code",
      "source": [
        "hotel_urls = [\n",
        "    \"https://www.tripadvisor.com/Hotel_Review-g1407334-d2054131-Reviews-The_Spice_House_Mirissa-Mirissa_Southern_Province.html\",\n",
        "    \"https://www.tripadvisor.com/Hotel_Review-g1407334-d15749075-Reviews-Fresh_Wave_Mirissa-Mirissa_Southern_Province.html\",\n",
        "    \"https://www.tripadvisor.com/Hotel_Review-g1407334-d1413017-Reviews-Paradise_Beach_Club-Mirissa_Southern_Province.html\",\n",
        "    \"https://www.tripadvisor.com/Hotel_Review-g1407334-d1902973-Reviews-Palm_Villa_Mirissa-Mirissa_Southern_Province.html\",\n",
        "    \"https://www.tripadvisor.com/Hotel_Review-g1407334-d1307887-Reviews-Mandara_Resort-Mirissa_Southern_Province.html\",\n",
        "    \"https://www.tripadvisor.com/Hotel_Review-g1407334-d7608347-Reviews-Randiya_Sea_View_Hotel-Mirissa_Southern_Province.html\",\n",
        "    \"https://www.tripadvisor.com/Hotel_Review-g424963-d10052141-Reviews-Jkab_Beach_Resort-Trincomalee_Eastern_Province.html\",\n",
        "    \"https://www.tripadvisor.com/Hotel_Review-g424963-d3505692-Reviews-Coconut_Beach_Lodge-Trincomalee_Eastern_Province.html\",\n",
        "    \"https://www.tripadvisor.com/Hotel_Review-g424963-d7079606-Reviews-Anantamaa-Trincomalee_Eastern_Province.html\",\n",
        "    \"https://www.tripadvisor.com/Hotel_Review-g424963-d2573046-Reviews-Golden_Beach_Cottages-Trincomalee_Eastern_Province.html\",\n",
        "    \"https://www.tripadvisor.com/Hotel_Review-g424963-d1775384-Reviews-Trinco_Blu_By_Cinnamon-Trincomalee_Eastern_Province.html\",\n",
        "    \"https://www.tripadvisor.com/Hotel_Review-g424963-d7788909-Reviews-Amaranthe_Bay_Resort-Trincomalee_Eastern_Province.html\",\n",
        "    \"https://www.tripadvisor.com/Hotel_Review-g304140-d447419-Reviews-Deer_Park_Hotel-Polonnaruwa_North_Central_Province.html\",\n",
        "    \"https://www.tripadvisor.com/Hotel_Review-g304140-d6921675-Reviews-Ekho_Lake_House-Polonnaruwa_North_Central_Province.html\",\n",
        "    \"https://www.tripadvisor.com/Hotel_Review-g304140-d3879249-Reviews-Tishan_Holiday_Resort-Polonnaruwa_North_Central_Province.html\",\n",
        "    \"https://www.tripadvisor.com/Hotel_Review-g304140-d3682523-Reviews-Seyara_Holiday_Resort-Polonnaruwa_North_Central_Province.html\",\n",
        "    \"https://www.tripadvisor.com/Hotel_Review-g304140-d577158-Reviews-Hotel_Sudu_Araliya-Polonnaruwa_North_Central_Province.html\",\n",
        "    \"https://www.tripadvisor.com/Hotel_Review-g1189034-d594619-Reviews-Giritale_Hotel-Giritale_Polonnaruwa_North_Central_Province.html\"\n",
        "]"
      ],
      "metadata": {
        "id": "2CsUp5VnZlqp"
      },
      "execution_count": 13,
      "outputs": []
    },
    {
      "cell_type": "code",
      "source": [
        "# Prepare to collect all reviews in a list\n",
        "all_reviews = []\n",
        "target_review_count = 2000\n",
        "\n",
        "# Define the date range\n",
        "start_date = datetime(2024, 1, 1)\n",
        "end_date = datetime(2024, 11, 2)\n",
        "\n",
        "# Track all unique fields across reviews\n",
        "all_fieldnames = set()"
      ],
      "metadata": {
        "id": "qA5hySDncx5c"
      },
      "execution_count": 14,
      "outputs": []
    },
    {
      "cell_type": "code",
      "source": [
        "for url in hotel_urls:\n",
        "    # Prepare input for each hotel with English-only reviews\n",
        "    run_input = {\n",
        "        \"startUrls\": [{\"url\": url}],\n",
        "        \"maxItemsPerQuery\": 50,  # Adjust if you need more reviews per query\n",
        "        \"reviewRatings\": [\"ALL_REVIEW_RATINGS\"],\n",
        "        \"reviewsLanguages\": [\"en\"],  # Only fetch English reviews\n",
        "    }\n",
        "\n",
        "    # Run the Actor and wait for it to finish\n",
        "    run = client.actor(\"maxcopell/tripadvisor-reviews\").call(run_input=run_input)\n",
        "\n",
        "    # Fetch reviews from the dataset\n",
        "    for item in client.dataset(run[\"defaultDatasetId\"]).iterate_items():\n",
        "        # Collect all unique field names from each item\n",
        "        all_fieldnames.update(item.keys())\n",
        "\n",
        "        # Parse the review date\n",
        "        review_date = datetime.strptime(item[\"publishedDate\"], \"%Y-%m-%d\")\n",
        "\n",
        "        # Filter reviews by date range\n",
        "        if start_date <= review_date <= end_date:\n",
        "            all_reviews.append(item)\n",
        "\n",
        "        # Stop if we've reached the target review count\n",
        "        if len(all_reviews) >= target_review_count:\n",
        "            break\n",
        "\n",
        "    # Check if we've collected enough reviews\n",
        "    if len(all_reviews) >= target_review_count:\n",
        "        break"
      ],
      "metadata": {
        "id": "z6lamD8Vc0Im"
      },
      "execution_count": 15,
      "outputs": []
    },
    {
      "cell_type": "code",
      "source": [
        "# Convert the set of all field names to a sorted list for CSV\n",
        "all_fieldnames = sorted(all_fieldnames)\n",
        "\n",
        "# Define the CSV file path\n",
        "csv_file_path = \"sri_lankan_Colombo_hotel_reviews.csv\"\n",
        "\n",
        "# Write the filtered reviews to the CSV file with all dynamic fields\n",
        "with open(csv_file_path, mode=\"w\", newline=\"\", encoding=\"utf-8\") as csv_file:\n",
        "    writer = csv.DictWriter(csv_file, fieldnames=all_fieldnames)\n",
        "    writer.writeheader()  # Write header with all fields\n",
        "\n",
        "    for review in all_reviews:\n",
        "        # Write each review row, only populating fields that exist in the review\n",
        "        writer.writerow({field: review.get(field, \"\") for field in all_fieldnames})\n",
        "\n",
        "print(f\"Collected {len(all_reviews)} English reviews in the specified date range.\")\n",
        "print(f\"Data saved to {csv_file_path}\")"
      ],
      "metadata": {
        "colab": {
          "base_uri": "https://localhost:8080/"
        },
        "id": "tR1FWqmLc1_k",
        "outputId": "9a17efb0-2624-4359-c363-11f55078cc69"
      },
      "execution_count": 16,
      "outputs": [
        {
          "output_type": "stream",
          "name": "stdout",
          "text": [
            "Collected 314 English reviews in the specified date range.\n",
            "Data saved to sri_lankan_Colombo_hotel_reviews.csv\n"
          ]
        }
      ]
    },
    {
      "cell_type": "markdown",
      "source": [
        "# Third Run"
      ],
      "metadata": {
        "id": "k-os0CSfgo_i"
      }
    },
    {
      "cell_type": "code",
      "source": [
        "hotel_urls = [\n",
        "    \"https://www.tripadvisor.com/Hotel_Review-g304133-d10903452-Reviews-Seerock_The_King_s_Domain-Dambulla_Central_Province.html\",\n",
        "    \"https://www.tripadvisor.com/Hotel_Review-g304133-d12059634-Reviews-Liyya_Water_Villas-Dambulla_Central_Province.html\",\n",
        "    \"https://www.tripadvisor.com/Hotel_Review-g304133-d5980996-Reviews-Kalundewa_Retreat-Dambulla_Central_Province.html\",\n",
        "    \"https://www.tripadvisor.com/Hotel_Review-g304133-d8655826-Reviews-Rangiri_Dambulla_Resort-Dambulla_Central_Province.html\",\n",
        "    \"https://www.tripadvisor.com/Hotel_Review-g304133-d801615-Reviews-Pelwehera_Village_Resort-Dambulla_Central_Province.html\",\n",
        "    \"https://www.tripadvisor.com/Hotel_Review-g304133-d2372292-Reviews-Sundaras_Resort_Spa-Dambulla_Central_Province.html\",\n",
        "    \"https://www.tripadvisor.com/Hotel_Review-g304133-d649489-Reviews-Sigiriana_Resort-Dambulla_Central_Province.html\",\n",
        "    \"https://www.tripadvisor.com/Hotel_Review-g304133-d1773298-Reviews-Nice_Place_Hotel-Dambulla_Central_Province.html\",\n",
        "    \"https://www.tripadvisor.com/Hotel_Review-g304136-d10154736-Reviews-Anantara_Kalutara_Resort-Kalutara_Western_Province.html\",\n",
        "    \"https://www.tripadvisor.com/Hotel_Review-g304136-d316671-Reviews-Mermaid_Hotel_Club-Kalutara_Western_Province.html\",\n",
        "    \"https://www.tripadvisor.com/Hotel_Review-g304136-d315691-Reviews-Turyaa_Kalutara_by_Aitken_Spence_Hotels-Kalutara_Western_Province.html\",\n",
        "    \"https://www.tripadvisor.com/Hotel_Review-g304136-d315692-Reviews-Tangerine_Beach_Hotel-Kalutara_Western_Province.html\",\n",
        "    \"https://www.tripadvisor.com/Hotel_Review-g304136-d3596388-Reviews-Avani_Kalutara_Resort-Kalutara_Western_Province.html\",\n",
        "    \"https://www.tripadvisor.com/Hotel_Review-g304136-d315693-Reviews-Royal_Palms_Beach_Hotel-Kalutara_Western_Province.html\",\n",
        "    \"https://www.tripadvisor.com/Hotel_Review-g304136-d8356701-Reviews-Coco_Royal_Beach_Resort-Kalutara_Western_Province.html\",\n",
        "    \"https://www.tripadvisor.com/Hotel_Review-g304136-d10628005-Reviews-Club_Waskaduwa_Beach_Resort_Spa-Kalutara_Western_Province.html\",\n",
        "    \"https://www.tripadvisor.com/Hotel_Review-g304136-d316669-Reviews-Hibiscus_Beach_Hotel-Kalutara_Western_Province.html\",\n",
        "    \"https://www.tripadvisor.com/Hotel_Review-g304136-d3310513-Reviews-The_Plantation_Villa-Kalutara_Western_Province.html\",\n",
        "    \"https://www.tripadvisor.com/Hotel_Review-g1097569-d10422418-Reviews-Jie_Jie_Beach_by_Jetwing-Panadura_Western_Province.html\",\n",
        "    \"https://www.tripadvisor.com/Hotel_Review-g1097569-d7695054-Reviews-Blue_Beach_Wadduwa-Panadura_Western_Province.html\",\n",
        "    \"https://www.tripadvisor.com/Hotel_Review-g499081-d586453-Reviews-The_Blue_Water-Wadduwa_Western_Province.html\",\n",
        "    \"https://www.tripadvisor.com/Hotel_Review-g499081-d13493984-Reviews-The_Villas_Wadduwa-Wadduwa_Western_Province.html\",\n",
        "    \"https://www.tripadvisor.com/Hotel_Review-g499081-d15330244-Reviews-Ayana_Sea-Wadduwa_Western_Province.html\",\n",
        "    \"https://www.tripadvisor.com/Hotel_Review-g499081-d1233956-Reviews-Reef_Villa_Spa-Wadduwa_Western_Province.html\",\n",
        "    \"https://www.tripadvisor.com/Hotel_Review-g499081-d1591244-Reviews-Serene_Pavilions-Wadduwa_Western_Province.html\",\n",
        "    \"https://www.tripadvisor.com/Hotel_Review-g499081-d13413633-Reviews-Oak_Ray_Haridra_Beach_Resort-Wadduwa_Western_Province.html\",\n",
        "    \"https://www.tripadvisor.com/Hotel_Review-g499081-d7358937-Reviews-Taprobana_Wadduwa_By_Asia_Leisure-Wadduwa_Western_Province.html\"\n",
        "]"
      ],
      "metadata": {
        "id": "ZXaqeRJLgVRZ"
      },
      "execution_count": 17,
      "outputs": []
    },
    {
      "cell_type": "code",
      "source": [
        "# Prepare to collect all reviews in a list\n",
        "all_reviews = []\n",
        "target_review_count = 2000\n",
        "\n",
        "# Define the date range\n",
        "start_date = datetime(2024, 1, 1)\n",
        "end_date = datetime(2024, 11, 2)\n",
        "\n",
        "# Track all unique fields across reviews\n",
        "all_fieldnames = set()"
      ],
      "metadata": {
        "id": "3KAXNg2fkFRE"
      },
      "execution_count": 18,
      "outputs": []
    },
    {
      "cell_type": "code",
      "source": [
        "for url in hotel_urls:\n",
        "    # Prepare input for each hotel with English-only reviews\n",
        "    run_input = {\n",
        "        \"startUrls\": [{\"url\": url}],\n",
        "        \"maxItemsPerQuery\": 50,  # Adjust if you need more reviews per query\n",
        "        \"reviewRatings\": [\"ALL_REVIEW_RATINGS\"],\n",
        "        \"reviewsLanguages\": [\"en\"],  # Only fetch English reviews\n",
        "    }\n",
        "\n",
        "    # Run the Actor and wait for it to finish\n",
        "    run = client.actor(\"maxcopell/tripadvisor-reviews\").call(run_input=run_input)\n",
        "\n",
        "    # Fetch reviews from the dataset\n",
        "    for item in client.dataset(run[\"defaultDatasetId\"]).iterate_items():\n",
        "        # Collect all unique field names from each item\n",
        "        all_fieldnames.update(item.keys())\n",
        "\n",
        "        # Parse the review date\n",
        "        review_date = datetime.strptime(item[\"publishedDate\"], \"%Y-%m-%d\")\n",
        "\n",
        "        # Filter reviews by date range\n",
        "        if start_date <= review_date <= end_date:\n",
        "            all_reviews.append(item)\n",
        "\n",
        "        # Stop if we've reached the target review count\n",
        "        if len(all_reviews) >= target_review_count:\n",
        "            break\n",
        "\n",
        "    # Check if we've collected enough reviews\n",
        "    if len(all_reviews) >= target_review_count:\n",
        "        break"
      ],
      "metadata": {
        "id": "uVlWVoahkIDi"
      },
      "execution_count": 19,
      "outputs": []
    },
    {
      "cell_type": "code",
      "source": [
        "# Convert the set of all field names to a sorted list for CSV\n",
        "all_fieldnames = sorted(all_fieldnames)\n",
        "\n",
        "# Define the CSV file path\n",
        "csv_file_path = \"sri_lankan_hotel_reviews.csv\"\n",
        "\n",
        "# Write the filtered reviews to the CSV file with all dynamic fields\n",
        "with open(csv_file_path, mode=\"w\", newline=\"\", encoding=\"utf-8\") as csv_file:\n",
        "    writer = csv.DictWriter(csv_file, fieldnames=all_fieldnames)\n",
        "    writer.writeheader()  # Write header with all fields\n",
        "\n",
        "    for review in all_reviews:\n",
        "        # Write each review row, only populating fields that exist in the review\n",
        "        writer.writerow({field: review.get(field, \"\") for field in all_fieldnames})\n",
        "\n",
        "print(f\"Collected {len(all_reviews)} English reviews in the specified date range.\")\n",
        "print(f\"Data saved to {csv_file_path}\")"
      ],
      "metadata": {
        "colab": {
          "base_uri": "https://localhost:8080/"
        },
        "id": "b6zhMax0kMHc",
        "outputId": "cdd779f5-5510-4830-bfa5-6fb89d118496"
      },
      "execution_count": 20,
      "outputs": [
        {
          "output_type": "stream",
          "name": "stdout",
          "text": [
            "Collected 690 English reviews in the specified date range.\n",
            "Data saved to sri_lankan_hotel_reviews.csv\n"
          ]
        }
      ]
    },
    {
      "cell_type": "markdown",
      "source": [
        "# Fourth Run"
      ],
      "metadata": {
        "id": "ix9Uzmi8nPDZ"
      }
    },
    {
      "cell_type": "code",
      "source": [
        "# Initialize the ApifyClient with your Apify API token\n",
        "client = ApifyClient(\"apify_api_0VfQ9eh2ilKJl1OfJlZKmVRS0pcEqD1JRld9\")"
      ],
      "metadata": {
        "id": "wUhJM_hi4xgT"
      },
      "execution_count": 22,
      "outputs": []
    },
    {
      "cell_type": "code",
      "source": [
        "hotel_urls = [\n",
        "    \"https://www.tripadvisor.com/Hotel_Review-g3748686-d8871806-Reviews-Uga_Chena_Huts-Palatupana_Yala_National_Park.html\",\n",
        "    \"https://www.tripadvisor.com/Hotel_Review-g3748686-d638092-Reviews-Cinnamon_Wild_Yala-Palatupana_Yala_National_Park.html\",\n",
        "    \"https://www.tripadvisor.com/Hotel_Review-g612381-d5817895-Reviews-Yala_Safari_Camping-Yala_National_Park.html\",\n",
        "    \"https://www.tripadvisor.com/Hotel_Review-g3748686-d4833492-Reviews-Jetwing_Yala-Palatupana_Yala_National_Park.html\",\n",
        "    \"https://www.tripadvisor.com/Hotel_Review-g3748686-d12973489-Reviews-Wild_Coast_Tented_Lodge_Relais_Chateaux-Palatupana_Yala_National_Park.html\",\n",
        "    \"https://www.tripadvisor.com/Hotel_Review-g612381-d1226088-Reviews-Mahoora_Tented_Safari_Camp_Yala-Yala_National_Park.html\",\n",
        "    \"https://www.tripadvisor.com/Hotel_Review-g3748686-d26194654-Reviews-Hilton_Yala_Resort-Palatupana_Yala_National_Park.html\",\n",
        "    \"https://www.tripadvisor.com/Hotel_Review-g612381-d630497-Reviews-Kulu_Safaris_Sri_Lanka-Yala_National_Park.html\",\n",
        "    \"https://www.tripadvisor.com/Hotel_Review-g3748686-d3748692-Reviews-Laya_Safari-Palatupana_Yala_National_Park.html\",\n",
        "    \"https://www.tripadvisor.com/Hotel_Review-g297897-d8073048-Reviews-Sentido_Heritance_Negombo-Negombo_Western_Province.html\",\n",
        "    \"https://www.tripadvisor.com/Hotel_Review-g297897-d308529-Reviews-Jetwing_Beach-Negombo_Western_Province.html\",\n",
        "    \"https://www.tripadvisor.com/Hotel_Review-g297897-d308530-Reviews-Jetwing_Blue-Negombo_Western_Province.html\",\n",
        "    \"https://www.tripadvisor.com/Hotel_Review-g2269230-d316667-Reviews-Jetwing_Sea-Kochchikade_Negombo_Western_Province.html\",\n",
        "    \"https://www.tripadvisor.com/Hotel_Review-g297897-d2510666-Reviews-Jetwing_Lagoon-Negombo_Western_Province.html\",\n",
        "    \"https://www.tripadvisor.com/Hotel_Review-g20034338-d477844-Reviews-Camelot_Beach_Hotel-Kudapaduwa_Negombo_Western_Province.html\",\n",
        "    \"https://www.tripadvisor.com/Hotel_Review-g297897-d23932183-Reviews-Belmont_Boutique_Hotel-Negombo_Western_Province.html\",\n",
        "    \"https://www.tripadvisor.com/Hotel_Review-g297897-d316666-Reviews-Hotel_Goldi_Sands-Negombo_Western_Province.html\",\n",
        "    \"https://www.tripadvisor.com/Hotel_Review-g297897-d579255-Reviews-Jetwing_Ayurveda_Pavilions-Negombo_Western_Province.html\",\n",
        "    \"https://www.tripadvisor.com/Hotel_Review-g297897-d12924646-Reviews-Regenta_Arie_Lagoon-Negombo_Western_Province.html\",\n",
        "    \"https://www.tripadvisor.com/Hotel_Review-g297897-d3400937-Reviews-Morning_Star_Resorts-Negombo_Western_Province.html\",\n",
        "    \"https://www.tripadvisor.com/Hotel_Review-g297897-d4323102-Reviews-Hotel_J_Negombo-Negombo_Western_Province.html\"\n",
        "]"
      ],
      "metadata": {
        "id": "nbMbOditnQOg"
      },
      "execution_count": 23,
      "outputs": []
    },
    {
      "cell_type": "code",
      "source": [
        "# Prepare to collect all reviews in a list\n",
        "all_reviews = []\n",
        "target_review_count = 2000\n",
        "\n",
        "# Define the date range\n",
        "start_date = datetime(2024, 1, 1)\n",
        "end_date = datetime(2024, 11, 2)\n",
        "\n",
        "# Track all unique fields across reviews\n",
        "all_fieldnames = set()"
      ],
      "metadata": {
        "id": "ae2IMSps1-18"
      },
      "execution_count": 24,
      "outputs": []
    },
    {
      "cell_type": "code",
      "source": [
        "for url in hotel_urls:\n",
        "    # Prepare input for each hotel with English-only reviews\n",
        "    run_input = {\n",
        "        \"startUrls\": [{\"url\": url}],\n",
        "        \"maxItemsPerQuery\": 50,  # Adjust if you need more reviews per query\n",
        "        \"reviewRatings\": [\"ALL_REVIEW_RATINGS\"],\n",
        "        \"reviewsLanguages\": [\"en\"],  # Only fetch English reviews\n",
        "    }\n",
        "\n",
        "    # Run the Actor and wait for it to finish\n",
        "    run = client.actor(\"maxcopell/tripadvisor-reviews\").call(run_input=run_input)\n",
        "\n",
        "    # Fetch reviews from the dataset\n",
        "    for item in client.dataset(run[\"defaultDatasetId\"]).iterate_items():\n",
        "        # Collect all unique field names from each item\n",
        "        all_fieldnames.update(item.keys())\n",
        "\n",
        "        # Parse the review date\n",
        "        review_date = datetime.strptime(item[\"publishedDate\"], \"%Y-%m-%d\")\n",
        "\n",
        "        # Filter reviews by date range\n",
        "        if start_date <= review_date <= end_date:\n",
        "            all_reviews.append(item)\n",
        "\n",
        "        # Stop if we've reached the target review count\n",
        "        if len(all_reviews) >= target_review_count:\n",
        "            break\n",
        "\n",
        "    # Check if we've collected enough reviews\n",
        "    if len(all_reviews) >= target_review_count:\n",
        "        break"
      ],
      "metadata": {
        "id": "fkV7YVsP45bC"
      },
      "execution_count": 25,
      "outputs": []
    },
    {
      "cell_type": "code",
      "source": [
        "# Convert the set of all field names to a sorted list for CSV\n",
        "all_fieldnames = sorted(all_fieldnames)\n",
        "\n",
        "# Define the CSV file path\n",
        "csv_file_path = \"sri_lankan_hotel_reviews2.csv\"\n",
        "\n",
        "# Write the filtered reviews to the CSV file with all dynamic fields\n",
        "with open(csv_file_path, mode=\"w\", newline=\"\", encoding=\"utf-8\") as csv_file:\n",
        "    writer = csv.DictWriter(csv_file, fieldnames=all_fieldnames)\n",
        "    writer.writeheader()  # Write header with all fields\n",
        "\n",
        "    for review in all_reviews:\n",
        "        # Write each review row, only populating fields that exist in the review\n",
        "        writer.writerow({field: review.get(field, \"\") for field in all_fieldnames})\n",
        "\n",
        "print(f\"Collected {len(all_reviews)} English reviews in the specified date range.\")\n",
        "print(f\"Data saved to {csv_file_path}\")"
      ],
      "metadata": {
        "colab": {
          "base_uri": "https://localhost:8080/"
        },
        "id": "ik5vijO049FI",
        "outputId": "a5d74666-e086-46ca-851b-20cef29809c6"
      },
      "execution_count": 26,
      "outputs": [
        {
          "output_type": "stream",
          "name": "stdout",
          "text": [
            "Collected 791 English reviews in the specified date range.\n",
            "Data saved to sri_lankan_hotel_reviews2.csv\n"
          ]
        }
      ]
    },
    {
      "cell_type": "markdown",
      "source": [
        "# Fourth Run"
      ],
      "metadata": {
        "id": "kpXm-sMF7gmq"
      }
    },
    {
      "cell_type": "code",
      "source": [
        "hotel_urls = [\n",
        "    \"https://www.tripadvisor.com/Hotel_Review-g1027209-d8869502-Reviews-Shangri_La_Hambantota-Hambantota_Tangalle_Southern_Province.html\",\n",
        "    \"https://www.tripadvisor.com/Hotel_Review-g1027209-d23064853-Reviews-Birds_Resort_Hambantota-Hambantota_Tangalle_Southern_Province.html\",\n",
        "    \"https://www.tripadvisor.com/Hotel_Review-g1027209-d1160171-Reviews-The_Oasis_Ayurveda_Beach_Resort-Hambantota_Tangalle_Southern_Province.html\",\n",
        "    \"https://www.tripadvisor.com/Hotel_Review-g1027209-d10807765-Reviews-Jade_Green_Hambantota-Hambantota_Tangalle_Southern_Province.html\",\n",
        "    \"https://www.tripadvisor.com/Hotel_Review-g1027209-d5142908-Reviews-Peacock_Beach_Resort_and_Spa-Hambantota_Tangalle_Southern_Province.html\",\n",
        "    \"https://www.tripadvisor.com/Hotel_Review-g608521-d496623-Reviews-Heritance_Ahungalla-Ahungalla_Galle_District_Southern_Province.html\",\n",
        "    \"https://www.tripadvisor.com/Hotel_Review-g608521-d10039170-Reviews-Hotel_Riu_Sri_Lanka-Ahungalla_Galle_District_Southern_Province.html\",\n",
        "    \"https://www.tripadvisor.com/Hotel_Review-g608521-d2216793-Reviews-Lotus_Villa-Ahungalla_Galle_District_Southern_Province.html\",\n",
        "    \"https://www.tripadvisor.com/Hotel_Review-g608521-d8006887-Reviews-White_Villa_Resort-Ahungalla_Galle_District_Southern_Province.html\",\n",
        "    \"https://www.tripadvisor.com/Hotel_Review-g608521-d622991-Reviews-La_Maison_Nil_Manel-Ahungalla_Galle_District_Southern_Province.html\"\n",
        "]"
      ],
      "metadata": {
        "id": "-B7IvYsa7gXC"
      },
      "execution_count": 27,
      "outputs": []
    },
    {
      "cell_type": "code",
      "source": [
        "# Prepare to collect all reviews in a list\n",
        "all_reviews = []\n",
        "target_review_count = 2000\n",
        "\n",
        "# Define the date range\n",
        "start_date = datetime(2024, 1, 1)\n",
        "end_date = datetime(2024, 11, 2)\n",
        "\n",
        "# Track all unique fields across reviews\n",
        "all_fieldnames = set()"
      ],
      "metadata": {
        "id": "GRULS-Q38Brw"
      },
      "execution_count": 28,
      "outputs": []
    },
    {
      "cell_type": "code",
      "source": [
        "for url in hotel_urls:\n",
        "    # Prepare input for each hotel with English-only reviews\n",
        "    run_input = {\n",
        "        \"startUrls\": [{\"url\": url}],\n",
        "        \"maxItemsPerQuery\": 50,  # Adjust if you need more reviews per query\n",
        "        \"reviewRatings\": [\"ALL_REVIEW_RATINGS\"],\n",
        "        \"reviewsLanguages\": [\"en\"],  # Only fetch English reviews\n",
        "    }\n",
        "\n",
        "    # Run the Actor and wait for it to finish\n",
        "    run = client.actor(\"maxcopell/tripadvisor-reviews\").call(run_input=run_input)\n",
        "\n",
        "    # Fetch reviews from the dataset\n",
        "    for item in client.dataset(run[\"defaultDatasetId\"]).iterate_items():\n",
        "        # Collect all unique field names from each item\n",
        "        all_fieldnames.update(item.keys())\n",
        "\n",
        "        # Parse the review date\n",
        "        review_date = datetime.strptime(item[\"publishedDate\"], \"%Y-%m-%d\")\n",
        "\n",
        "        # Filter reviews by date range\n",
        "        if start_date <= review_date <= end_date:\n",
        "            all_reviews.append(item)\n",
        "\n",
        "        # Stop if we've reached the target review count\n",
        "        if len(all_reviews) >= target_review_count:\n",
        "            break\n",
        "\n",
        "    # Check if we've collected enough reviews\n",
        "    if len(all_reviews) >= target_review_count:\n",
        "        break"
      ],
      "metadata": {
        "id": "o3Q1aiJi8Db2"
      },
      "execution_count": 29,
      "outputs": []
    },
    {
      "cell_type": "code",
      "source": [
        "# Convert the set of all field names to a sorted list for CSV\n",
        "all_fieldnames = sorted(all_fieldnames)\n",
        "\n",
        "# Define the CSV file path\n",
        "csv_file_path = \"sri_lankan_hotel_reviews3.csv\"\n",
        "\n",
        "# Write the filtered reviews to the CSV file with all dynamic fields\n",
        "with open(csv_file_path, mode=\"w\", newline=\"\", encoding=\"utf-8\") as csv_file:\n",
        "    writer = csv.DictWriter(csv_file, fieldnames=all_fieldnames)\n",
        "    writer.writeheader()  # Write header with all fields\n",
        "\n",
        "    for review in all_reviews:\n",
        "        # Write each review row, only populating fields that exist in the review\n",
        "        writer.writerow({field: review.get(field, \"\") for field in all_fieldnames})\n",
        "\n",
        "print(f\"Collected {len(all_reviews)} English reviews in the specified date range.\")\n",
        "print(f\"Data saved to {csv_file_path}\")"
      ],
      "metadata": {
        "colab": {
          "base_uri": "https://localhost:8080/"
        },
        "id": "IQgkm-hI8Epe",
        "outputId": "8e33ef2f-2564-474e-a6e5-869ca020b5a4"
      },
      "execution_count": 30,
      "outputs": [
        {
          "output_type": "stream",
          "name": "stdout",
          "text": [
            "Collected 193 English reviews in the specified date range.\n",
            "Data saved to sri_lankan_hotel_reviews3.csv\n"
          ]
        }
      ]
    },
    {
      "cell_type": "code",
      "source": [],
      "metadata": {
        "id": "bFK1zzgn8dzU"
      },
      "execution_count": null,
      "outputs": []
    }
  ]
}