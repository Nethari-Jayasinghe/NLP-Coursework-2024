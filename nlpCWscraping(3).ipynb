{
  "nbformat": 4,
  "nbformat_minor": 0,
  "metadata": {
    "colab": {
      "provenance": []
    },
    "kernelspec": {
      "name": "python3",
      "display_name": "Python 3"
    },
    "language_info": {
      "name": "python"
    }
  },
  "cells": [
    {
      "cell_type": "code",
      "source": [
        "!pip install apify-client"
      ],
      "metadata": {
        "colab": {
          "base_uri": "https://localhost:8080/"
        },
        "id": "pfZfEIrVCpT1",
        "outputId": "134ed891-5bf2-41e0-ba9d-7517b3a4fdb6"
      },
      "execution_count": null,
      "outputs": [
        {
          "output_type": "stream",
          "name": "stdout",
          "text": [
            "Collecting apify-client\n",
            "  Downloading apify_client-1.8.1-py3-none-any.whl.metadata (4.3 kB)\n",
            "Collecting apify-shared>=1.1.2 (from apify-client)\n",
            "  Downloading apify_shared-1.1.2-py3-none-any.whl.metadata (2.5 kB)\n",
            "Requirement already satisfied: httpx>=0.25.0 in /usr/local/lib/python3.10/dist-packages (from apify-client) (0.27.2)\n",
            "Requirement already satisfied: more_itertools>=10.0.0 in /usr/local/lib/python3.10/dist-packages (from apify-client) (10.5.0)\n",
            "Requirement already satisfied: anyio in /usr/local/lib/python3.10/dist-packages (from httpx>=0.25.0->apify-client) (3.7.1)\n",
            "Requirement already satisfied: certifi in /usr/local/lib/python3.10/dist-packages (from httpx>=0.25.0->apify-client) (2024.8.30)\n",
            "Requirement already satisfied: httpcore==1.* in /usr/local/lib/python3.10/dist-packages (from httpx>=0.25.0->apify-client) (1.0.6)\n",
            "Requirement already satisfied: idna in /usr/local/lib/python3.10/dist-packages (from httpx>=0.25.0->apify-client) (3.10)\n",
            "Requirement already satisfied: sniffio in /usr/local/lib/python3.10/dist-packages (from httpx>=0.25.0->apify-client) (1.3.1)\n",
            "Requirement already satisfied: h11<0.15,>=0.13 in /usr/local/lib/python3.10/dist-packages (from httpcore==1.*->httpx>=0.25.0->apify-client) (0.14.0)\n",
            "Requirement already satisfied: exceptiongroup in /usr/local/lib/python3.10/dist-packages (from anyio->httpx>=0.25.0->apify-client) (1.2.2)\n",
            "Downloading apify_client-1.8.1-py3-none-any.whl (73 kB)\n",
            "\u001b[2K   \u001b[90m━━━━━━━━━━━━━━━━━━━━━━━━━━━━━━━━━━━━━━━━\u001b[0m \u001b[32m73.5/73.5 kB\u001b[0m \u001b[31m1.9 MB/s\u001b[0m eta \u001b[36m0:00:00\u001b[0m\n",
            "\u001b[?25hDownloading apify_shared-1.1.2-py3-none-any.whl (12 kB)\n",
            "Installing collected packages: apify-shared, apify-client\n",
            "Successfully installed apify-client-1.8.1 apify-shared-1.1.2\n"
          ]
        }
      ]
    },
    {
      "cell_type": "code",
      "execution_count": null,
      "metadata": {
        "id": "puACwaPsCccq"
      },
      "outputs": [],
      "source": [
        "import csv\n",
        "from apify_client import ApifyClient\n",
        "from datetime import datetime"
      ]
    },
    {
      "cell_type": "code",
      "source": [
        "# Initialize the ApifyClient with your Apify API token\n",
        "client = ApifyClient(\"apify_api_9FQWCICd3j0xS5Zj5Em1zzbsDxes3438jtPk\")"
      ],
      "metadata": {
        "id": "he5o7qAECfeQ"
      },
      "execution_count": null,
      "outputs": []
    },
    {
      "cell_type": "code",
      "source": [
        "# List of TripAdvisor URLs for 100 Sri Lankan hotels\n",
        "hotel_urls = [\n",
        " \"https://www.tripadvisor.com/Hotel_Review-g297895-d315668-Reviews-Thaala_Bentota_Resort-Bentota_Galle_District_Southern_Province.html\",\n",
        " \"https://www.tripadvisor.com/Hotel_Review-g297895-d315672-Reviews-Ekho_Surf-Bentota_Galle_District_Southern_Province.html\",\n",
        " \"https://www.tripadvisor.com/Hotel_Review-g297895-d15292088-Reviews-Cinnamon_Bentota_Beach_Signature_Selection-Bentota_Galle_District_Southern_Province.html\",\n",
        " \"https://www.tripadvisor.com/Hotel_Review-g297895-d306383-Reviews-Taj_Bentota_Resort_Spa-Bentota_Galle_District_Southern_Province.html\",\n",
        " \"https://www.tripadvisor.com/Hotel_Review-g297895-d306376-Reviews-Jetwing_Saman_Villas-Bentota_Galle_District_Southern_Province.html\",\n",
        " \"https://www.tripadvisor.com/Hotel_Review-g297895-d611903-Reviews-Pandanus_Beach_Resort_Spa-Bentota_Galle_District_Southern_Province.html\",\n",
        " \"https://www.tripadvisor.com/Hotel_Review-g297895-d982341-Reviews-Shangri_Lanka_Villa-Bentota_Galle_District_Southern_Province.html\",\n",
        " \"https://www.tripadvisor.com/Hotel_Review-g297895-d1637352-Reviews-The_Villa_Bentota_by_KK_Collection-Bentota_Galle_District_Southern_Province.html\",\n",
        " \"https://www.tripadvisor.com/Hotel_Review-g297895-d581809-Reviews-Wunderbar_Beach_Club_Hotel-Bentota_Galle_District_Southern_Province.html\",\n",
        " \"https://www.tripadvisor.com/Hotel_Review-g297895-d7621334-Reviews-Rockside_Beach_Resort-Bentota_Galle_District_Southern_Province.html\"\n",
        "    # Add up to 100 URLs for each hotel here\n",
        "]"
      ],
      "metadata": {
        "id": "QslwDS3WCuLj"
      },
      "execution_count": null,
      "outputs": []
    },
    {
      "cell_type": "code",
      "source": [
        "# # Prepare to collect all reviews in a list\n",
        "# all_reviews = []\n",
        "# target_review_count = 1000"
      ],
      "metadata": {
        "id": "A62GQd0QCxhE"
      },
      "execution_count": null,
      "outputs": []
    },
    {
      "cell_type": "code",
      "source": [
        "# Define the date range\n",
        "# start_date = datetime(2024, 1, 1)\n",
        "# end_date = datetime(2024, 11, 2)"
      ],
      "metadata": {
        "id": "o3Ug2_seC0Fn"
      },
      "execution_count": null,
      "outputs": []
    },
    {
      "cell_type": "code",
      "source": [
        "# for url in hotel_urls:\n",
        "#     # Prepare input for each hotel with English-only reviews\n",
        "#     run_input = {\n",
        "#         \"startUrls\": [{\"url\": url}],\n",
        "#         \"maxItemsPerQuery\": 50,  # Adjust if you need more reviews per query\n",
        "#         \"reviewRatings\": [\"ALL_REVIEW_RATINGS\"],\n",
        "#         \"reviewsLanguages\": [\"en\"],  # Only fetch English reviews\n",
        "#     }\n",
        "\n",
        "#     # Run the Actor and wait for it to finish\n",
        "#     run = client.actor(\"maxcopell/tripadvisor-reviews\").call(run_input=run_input)\n",
        "\n",
        "#     # Fetch reviews from the dataset\n",
        "#     for item in client.dataset(run[\"defaultDatasetId\"]).iterate_items():\n",
        "#         # Parse the review date\n",
        "#         review_date = datetime.strptime(item[\"publishedDate\"], \"%Y-%m-%d\")\n",
        "\n",
        "#         # Filter reviews by date range\n",
        "#         if start_date <= review_date <= end_date:\n",
        "#             all_reviews.append(item)\n",
        "\n",
        "#         # Stop if we've reached the target review count\n",
        "#         if len(all_reviews) >= target_review_count:\n",
        "#             break\n",
        "\n",
        "#     # Check if we've collected enough reviews\n",
        "#     if len(all_reviews) >= target_review_count:\n",
        "#         break\n"
      ],
      "metadata": {
        "id": "Zos06JWnFLw-"
      },
      "execution_count": null,
      "outputs": []
    },
    {
      "cell_type": "code",
      "source": [
        "# # Define the CSV file path and field names\n",
        "# csv_file_path = \"sri_lankan_hotel_reviews.csv\"\n",
        "# fieldnames = [\"text\", \"title\", \"travelDate\", \"tripType\", \"rating\"]"
      ],
      "metadata": {
        "id": "RZNvA6QtDEd8"
      },
      "execution_count": null,
      "outputs": []
    },
    {
      "cell_type": "code",
      "source": [
        "# # Write the filtered reviews to the CSV file\n",
        "# with open(csv_file_path, mode=\"w\", newline=\"\", encoding=\"utf-8\") as csv_file:\n",
        "#     writer = csv.DictWriter(csv_file, fieldnames=fieldnames)\n",
        "#     writer.writeheader()  # Write header\n",
        "\n",
        "#     for review in all_reviews:\n",
        "#         # Extract only available fields to avoid missing data issues\n",
        "#         writer.writerow({\n",
        "#             \"text\": review.get(\"text\", \"\"),\n",
        "#             \"title\": review.get(\"title\", \"\"),\n",
        "#             \"travelDate\": review.get(\"travelDate\", \"\"),\n",
        "#             \"tripType\": review.get(\"tripType\", \"\"),\n",
        "#             \"rating\": review.get(\"rating\", \"\"),\n",
        "#         })\n",
        "\n",
        "# print(f\"Collected {len(all_reviews)} English reviews in the specified date range.\")\n",
        "# print(f\"Data saved to {csv_file_path}\")"
      ],
      "metadata": {
        "colab": {
          "base_uri": "https://localhost:8080/"
        },
        "id": "CaYcmGZNDG_n",
        "outputId": "8bfa0704-7e3c-4f3d-90a3-db8d4079bd8b"
      },
      "execution_count": null,
      "outputs": [
        {
          "output_type": "stream",
          "name": "stdout",
          "text": [
            "Collected 99 English reviews in the specified date range.\n",
            "Data saved to sri_lankan_hotel_reviews.csv\n"
          ]
        }
      ]
    },
    {
      "cell_type": "code",
      "source": [
        "---------------------------------------------------------------------------------------------------------------------------------------------------------\n",
        "---------------------------------------------------------------------------------------------------------------------------------------------------------\n"
      ],
      "metadata": {
        "id": "gmCh1CQdFsQy"
      },
      "execution_count": null,
      "outputs": []
    },
    {
      "cell_type": "markdown",
      "source": [
        "Use the below code"
      ],
      "metadata": {
        "id": "O4PxpW4mu2ND"
      }
    },
    {
      "cell_type": "code",
      "source": [
        "#import csv\n",
        "#from apify_client import ApifyClient\n",
        "#from datetime import datetime\n",
        "\n",
        "\n",
        "# Prepare to collect all reviews in a list\n",
        "all_reviews = []\n",
        "target_review_count = 2000\n",
        "\n",
        "# Define the date range\n",
        "start_date = datetime(2024, 1, 1)\n",
        "end_date = datetime(2024, 11, 1)\n",
        "\n",
        "# Track all unique fields across reviews\n",
        "all_fieldnames = set()\n",
        "\n",
        "for url in hotel_urls:\n",
        "    # Prepare input for each hotel with English-only reviews\n",
        "    run_input = {\n",
        "        \"startUrls\": [{\"url\": url}],\n",
        "        \"maxItemsPerQuery\": 50,  # Adjust if you need more reviews per query\n",
        "        \"reviewRatings\": [\"ALL_REVIEW_RATINGS\"],\n",
        "        \"reviewsLanguages\": [\"en\"],  # Only fetch English reviews\n",
        "    }\n",
        "\n",
        "    # Run the Actor and wait for it to finish\n",
        "    run = client.actor(\"maxcopell/tripadvisor-reviews\").call(run_input=run_input)\n",
        "\n",
        "    # Fetch reviews from the dataset\n",
        "    for item in client.dataset(run[\"defaultDatasetId\"]).iterate_items():\n",
        "        # Collect all unique field names from each item\n",
        "        all_fieldnames.update(item.keys())\n",
        "\n",
        "        # Parse the review date\n",
        "        review_date = datetime.strptime(item[\"publishedDate\"], \"%Y-%m-%d\")\n",
        "\n",
        "        # Filter reviews by date range\n",
        "        if start_date <= review_date <= end_date:\n",
        "            all_reviews.append(item)\n",
        "\n",
        "        # Stop if we've reached the target review count\n",
        "        if len(all_reviews) >= target_review_count:\n",
        "            break\n",
        "\n",
        "    # Check if we've collected enough reviews\n",
        "    if len(all_reviews) >= target_review_count:\n",
        "        break\n",
        "\n",
        "# Convert the set of all field names to a sorted list for CSV\n",
        "all_fieldnames = sorted(all_fieldnames)\n",
        "\n",
        "# Define the CSV file path\n",
        "csv_file_path = \"sri_lankan_Bentota_hotel_reviews.csv\"\n",
        "\n",
        "# Write the filtered reviews to the CSV file with all dynamic fields\n",
        "with open(csv_file_path, mode=\"w\", newline=\"\", encoding=\"utf-8\") as csv_file:\n",
        "    writer = csv.DictWriter(csv_file, fieldnames=all_fieldnames)\n",
        "    writer.writeheader()  # Write header with all fields\n",
        "\n",
        "    for review in all_reviews:\n",
        "        # Write each review row, only populating fields that exist in the review\n",
        "        writer.writerow({field: review.get(field, \"\") for field in all_fieldnames})\n",
        "\n",
        "print(f\"Collected {len(all_reviews)} English reviews in the specified date range.\")\n",
        "print(f\"Data saved to {csv_file_path}\")\n"
      ],
      "metadata": {
        "colab": {
          "base_uri": "https://localhost:8080/"
        },
        "id": "wxzTIVZIrHbs",
        "outputId": "ec7c23bb-371f-4251-c3fd-e03c26776ff4"
      },
      "execution_count": null,
      "outputs": [
        {
          "output_type": "stream",
          "name": "stdout",
          "text": [
            "Collected 344 English reviews in the specified date range.\n",
            "Data saved to sri_lankan_Bentota_hotel_reviews.csv\n"
          ]
        }
      ]
    }
  ]
}